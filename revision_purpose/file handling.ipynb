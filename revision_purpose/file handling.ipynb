{
 "cells": [
  {
   "cell_type": "code",
   "execution_count": 3,
   "id": "6a639dd1-deb8-4dfc-9f64-b97b0581f4e7",
   "metadata": {},
   "outputs": [
    {
     "name": "stdout",
     "output_type": "stream",
     "text": [
      "hello\n"
     ]
    }
   ],
   "source": [
    "print (\"hello\")"
   ]
  },
  {
   "cell_type": "code",
   "execution_count": 25,
   "id": "24b7e88a-1279-491e-b6ca-7144c09b1eda",
   "metadata": {},
   "outputs": [],
   "source": [
    "f= open(\"rajesh.txt\",\"w\" )\n",
    "f.write(\"My name is Vedansh Mathur\")\n",
    "f.close()\n",
    "# content = f.read()\n",
    "# print (content)"
   ]
  },
  {
   "cell_type": "code",
   "execution_count": 32,
   "id": "239fa5a9-804d-436b-b2a7-ad5e74996de0",
   "metadata": {},
   "outputs": [],
   "source": [
    "with open (\"rajesh.txt\" , \"a\") as f:\n",
    "    f.write(\"\\nMy love is Tejaswii\"*10)"
   ]
  },
  {
   "cell_type": "code",
   "execution_count": 31,
   "id": "d586acb8-3611-4267-81ca-871d5f8031be",
   "metadata": {},
   "outputs": [
    {
     "data": {
      "text/plain": [
       "['_CHUNK_SIZE',\n",
       " '__class__',\n",
       " '__del__',\n",
       " '__delattr__',\n",
       " '__dict__',\n",
       " '__dir__',\n",
       " '__doc__',\n",
       " '__enter__',\n",
       " '__eq__',\n",
       " '__exit__',\n",
       " '__format__',\n",
       " '__ge__',\n",
       " '__getattribute__',\n",
       " '__getstate__',\n",
       " '__gt__',\n",
       " '__hash__',\n",
       " '__init__',\n",
       " '__init_subclass__',\n",
       " '__iter__',\n",
       " '__le__',\n",
       " '__lt__',\n",
       " '__module__',\n",
       " '__ne__',\n",
       " '__new__',\n",
       " '__next__',\n",
       " '__reduce__',\n",
       " '__reduce_ex__',\n",
       " '__repr__',\n",
       " '__setattr__',\n",
       " '__sizeof__',\n",
       " '__str__',\n",
       " '__subclasshook__',\n",
       " '_checkClosed',\n",
       " '_checkReadable',\n",
       " '_checkSeekable',\n",
       " '_checkWritable',\n",
       " '_finalizing',\n",
       " 'buffer',\n",
       " 'close',\n",
       " 'closed',\n",
       " 'detach',\n",
       " 'encoding',\n",
       " 'errors',\n",
       " 'fileno',\n",
       " 'flush',\n",
       " 'isatty',\n",
       " 'line_buffering',\n",
       " 'mode',\n",
       " 'name',\n",
       " 'newlines',\n",
       " 'read',\n",
       " 'readable',\n",
       " 'readline',\n",
       " 'readlines',\n",
       " 'reconfigure',\n",
       " 'seek',\n",
       " 'seekable',\n",
       " 'tell',\n",
       " 'truncate',\n",
       " 'writable',\n",
       " 'write',\n",
       " 'write_through',\n",
       " 'writelines']"
      ]
     },
     "execution_count": 31,
     "metadata": {},
     "output_type": "execute_result"
    }
   ],
   "source": [
    "dir(f)"
   ]
  },
  {
   "cell_type": "code",
   "execution_count": 47,
   "id": "d645f7b3-212a-4fb2-a4d6-d164e8866903",
   "metadata": {},
   "outputs": [
    {
     "name": "stdout",
     "output_type": "stream",
     "text": [
      "24\n"
     ]
    }
   ],
   "source": [
    "with open (\"kamlesh.txt\", \"w\")as f :\n",
    "    content = f.write(\"ticket is being chacked!\")\n",
    "    print (content)"
   ]
  },
  {
   "cell_type": "code",
   "execution_count": 51,
   "id": "5f2c731d-29e1-4369-a819-319292b5133b",
   "metadata": {},
   "outputs": [
    {
     "name": "stdout",
     "output_type": "stream",
     "text": [
      "Final File Content:\n",
      "Favourite Language: Python\n"
     ]
    }
   ],
   "source": [
    "with open(\"data.txt\", \"a\") as f:\n",
    "    f.write(\"Favourite Language: Python\\n\")\n",
    "\n",
    "\n",
    "with open(\"data.txt\", \"r\") as f:\n",
    "    print(\"Final File Content:\")\n",
    "    for line in f:\n",
    "        print(line.strip())\n"
   ]
  },
  {
   "cell_type": "code",
   "execution_count": null,
   "id": "70981af4-d2a8-42df-9da5-22ccbe4cbcc6",
   "metadata": {},
   "outputs": [],
   "source": []
  }
 ],
 "metadata": {
  "kernelspec": {
   "display_name": "Python 3 (ipykernel)",
   "language": "python",
   "name": "python3"
  },
  "language_info": {
   "codemirror_mode": {
    "name": "ipython",
    "version": 3
   },
   "file_extension": ".py",
   "mimetype": "text/x-python",
   "name": "python",
   "nbconvert_exporter": "python",
   "pygments_lexer": "ipython3",
   "version": "3.13.0"
  }
 },
 "nbformat": 4,
 "nbformat_minor": 5
}
