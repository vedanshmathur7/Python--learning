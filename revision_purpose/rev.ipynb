{
 "cells": [
  {
   "cell_type": "code",
   "execution_count": 1,
   "id": "2a58ac93-6a41-477a-aeec-8a44ad74edf5",
   "metadata": {},
   "outputs": [],
   "source": [
    "i = \"lund raj abhishek\""
   ]
  },
  {
   "cell_type": "code",
   "execution_count": 2,
   "id": "5ae1757b-3edd-4b07-bee3-2861b7aa9bf9",
   "metadata": {},
   "outputs": [
    {
     "name": "stdout",
     "output_type": "stream",
     "text": [
      "True\n"
     ]
    }
   ],
   "source": [
    "print (\"lund\" in i)"
   ]
  },
  {
   "cell_type": "code",
   "execution_count": 3,
   "id": "8098b870-865d-4ad0-b4ab-fa87fb2b9fc7",
   "metadata": {},
   "outputs": [
    {
     "name": "stdout",
     "output_type": "stream",
     "text": [
      "False\n"
     ]
    }
   ],
   "source": [
    "print (\"rajesh\" in i)"
   ]
  },
  {
   "cell_type": "code",
   "execution_count": 4,
   "id": "a49a3d4a-afa5-4ed2-b8b6-1ea237f1173b",
   "metadata": {},
   "outputs": [
    {
     "data": {
      "text/plain": [
       "1"
      ]
     },
     "execution_count": 4,
     "metadata": {},
     "output_type": "execute_result"
    }
   ],
   "source": [
    "i.count(\"lund\")"
   ]
  },
  {
   "cell_type": "code",
   "execution_count": 5,
   "id": "44ee72d6-d3a8-4897-925b-b27963e93707",
   "metadata": {},
   "outputs": [
    {
     "data": {
      "text/plain": [
       "1"
      ]
     },
     "execution_count": 5,
     "metadata": {},
     "output_type": "execute_result"
    }
   ],
   "source": [
    "i.count (\"d\")"
   ]
  },
  {
   "cell_type": "code",
   "execution_count": 6,
   "id": "af390b60-d4bf-49ac-8acb-2355619d819a",
   "metadata": {},
   "outputs": [
    {
     "data": {
      "text/plain": [
       "'l chappal u chappal n chappal d chappal   chappal r chappal a chappal j chappal   chappal a chappal b chappal h chappal i chappal s chappal h chappal e chappal k'"
      ]
     },
     "execution_count": 6,
     "metadata": {},
     "output_type": "execute_result"
    }
   ],
   "source": [
    "\" chappal \".join(i)"
   ]
  },
  {
   "cell_type": "code",
   "execution_count": 7,
   "id": "ddd4c4eb-0fef-426b-b1ba-64ceb81c940f",
   "metadata": {},
   "outputs": [
    {
     "data": {
      "text/plain": [
       "['', '']"
      ]
     },
     "execution_count": 7,
     "metadata": {},
     "output_type": "execute_result"
    }
   ],
   "source": [
    "i.split(i)"
   ]
  },
  {
   "cell_type": "code",
   "execution_count": 8,
   "id": "0773b53a-47ed-4416-b393-27133eb65242",
   "metadata": {},
   "outputs": [
    {
     "data": {
      "text/plain": [
       "['lund', 'raj', 'abhishek']"
      ]
     },
     "execution_count": 8,
     "metadata": {},
     "output_type": "execute_result"
    }
   ],
   "source": [
    "i.split()"
   ]
  },
  {
   "cell_type": "code",
   "execution_count": 9,
   "id": "bd92c6ac-4fb1-4e99-9230-106b16071488",
   "metadata": {},
   "outputs": [
    {
     "data": {
      "text/plain": [
       "'lund raj vishesh'"
      ]
     },
     "execution_count": 9,
     "metadata": {},
     "output_type": "execute_result"
    }
   ],
   "source": [
    "i.replace(\"abhishek\", \"vishesh\")"
   ]
  },
  {
   "cell_type": "code",
   "execution_count": 10,
   "id": "9e1de5f7-924a-4ee0-b87f-ecdf5b5b2a33",
   "metadata": {},
   "outputs": [
    {
     "data": {
      "text/plain": [
       "'LUND RAJ ABHISHEK'"
      ]
     },
     "execution_count": 10,
     "metadata": {},
     "output_type": "execute_result"
    }
   ],
   "source": [
    "i.upper()"
   ]
  },
  {
   "cell_type": "code",
   "execution_count": 11,
   "id": "737d00c0-4a84-499b-8886-55119aeb4d76",
   "metadata": {},
   "outputs": [],
   "source": [
    "name = \"Vedansh Mathur\""
   ]
  },
  {
   "cell_type": "code",
   "execution_count": 12,
   "id": "236ce64f-d2e4-4c63-9fd1-59d1ce22f532",
   "metadata": {},
   "outputs": [],
   "source": [
    "age = 777"
   ]
  },
  {
   "cell_type": "code",
   "execution_count": 13,
   "id": "7a89ff3d-c5e7-45e1-80cd-9b5144b10bf7",
   "metadata": {},
   "outputs": [
    {
     "name": "stdout",
     "output_type": "stream",
     "text": [
      "My name is Vedansh Mathur and my age is 777\n"
     ]
    }
   ],
   "source": [
    "print (f\"My name is {name} and my age is {age}\")"
   ]
  },
  {
   "cell_type": "code",
   "execution_count": 14,
   "id": "9aa10cde-93bd-40d8-a607-6a433cff4098",
   "metadata": {},
   "outputs": [],
   "source": [
    "op = [1, \"Hello\", 4.5]\n"
   ]
  },
  {
   "cell_type": "code",
   "execution_count": 15,
   "id": "d9348886-0434-4748-8094-d82c3c103871",
   "metadata": {},
   "outputs": [
    {
     "data": {
      "text/plain": [
       "4.5"
      ]
     },
     "execution_count": 15,
     "metadata": {},
     "output_type": "execute_result"
    }
   ],
   "source": [
    "op.pop()"
   ]
  },
  {
   "cell_type": "code",
   "execution_count": 16,
   "id": "cb6806dd-bd6d-42bf-9c85-c4494e3df373",
   "metadata": {},
   "outputs": [
    {
     "name": "stdout",
     "output_type": "stream",
     "text": [
      "[1, 'Hello']\n"
     ]
    }
   ],
   "source": [
    "print (op)"
   ]
  },
  {
   "cell_type": "code",
   "execution_count": 17,
   "id": "7d61c004-0bac-496a-bbed-2c0fb492296f",
   "metadata": {},
   "outputs": [],
   "source": [
    "op.remove(\"Hello\")"
   ]
  },
  {
   "cell_type": "code",
   "execution_count": 18,
   "id": "0ad16307-2520-40da-9d1b-5d6303c6086f",
   "metadata": {},
   "outputs": [
    {
     "name": "stdout",
     "output_type": "stream",
     "text": [
      "[1]\n"
     ]
    }
   ],
   "source": [
    "print (op)"
   ]
  },
  {
   "cell_type": "code",
   "execution_count": 19,
   "id": "200cfd17-7707-4dac-aba0-f3f939d15766",
   "metadata": {},
   "outputs": [
    {
     "name": "stdout",
     "output_type": "stream",
     "text": [
      "[1]\n"
     ]
    }
   ],
   "source": [
    "print (op)"
   ]
  },
  {
   "cell_type": "code",
   "execution_count": 20,
   "id": "842013b8-e52d-4b96-bafd-a97f9ed45aa7",
   "metadata": {},
   "outputs": [],
   "source": [
    "ch = (56, 56, \"lund\", 65)"
   ]
  },
  {
   "cell_type": "code",
   "execution_count": 21,
   "id": "5739a637-936e-416c-b3b9-ae7a82248d54",
   "metadata": {},
   "outputs": [
    {
     "data": {
      "text/plain": [
       "4"
      ]
     },
     "execution_count": 21,
     "metadata": {},
     "output_type": "execute_result"
    }
   ],
   "source": [
    "len(ch)"
   ]
  },
  {
   "cell_type": "code",
   "execution_count": 22,
   "id": "5af54bbb-34a9-46d5-851c-33f8d7b56d35",
   "metadata": {},
   "outputs": [
    {
     "data": {
      "text/plain": [
       "2"
      ]
     },
     "execution_count": 22,
     "metadata": {},
     "output_type": "execute_result"
    }
   ],
   "source": [
    "ch.count(56)"
   ]
  },
  {
   "cell_type": "code",
   "execution_count": 23,
   "id": "ac92c7ce-f8c6-4b59-9094-bb44792e2543",
   "metadata": {},
   "outputs": [
    {
     "data": {
      "text/plain": [
       "2"
      ]
     },
     "execution_count": 23,
     "metadata": {},
     "output_type": "execute_result"
    }
   ],
   "source": [
    "ch.index(\"lund\")"
   ]
  },
  {
   "cell_type": "code",
   "execution_count": 24,
   "id": "80e000f2-bfe1-4c7f-b5dd-2ca033cc728d",
   "metadata": {},
   "outputs": [],
   "source": [
    "op = (\"naman\", \"vedansh\")"
   ]
  },
  {
   "cell_type": "code",
   "execution_count": 25,
   "id": "c364d719-f31f-428e-836c-24459ee81526",
   "metadata": {},
   "outputs": [
    {
     "data": {
      "text/plain": [
       "(56, 56, 'lund', 65, 'naman', 'vedansh')"
      ]
     },
     "execution_count": 25,
     "metadata": {},
     "output_type": "execute_result"
    }
   ],
   "source": [
    "ch + op"
   ]
  },
  {
   "cell_type": "code",
   "execution_count": 26,
   "id": "93e8bbab-2213-4570-947a-2a01b42fb09b",
   "metadata": {},
   "outputs": [],
   "source": [
    "dick = {}"
   ]
  },
  {
   "cell_type": "code",
   "execution_count": 27,
   "id": "5cd3a070-f237-4856-9f7e-5e67314ca1ff",
   "metadata": {},
   "outputs": [
    {
     "name": "stdout",
     "output_type": "stream",
     "text": [
      "<class 'dict'>\n"
     ]
    }
   ],
   "source": [
    "print (type(dick))"
   ]
  },
  {
   "cell_type": "code",
   "execution_count": 28,
   "id": "bc5121e3-dc3c-4331-ba1e-1db1db567977",
   "metadata": {},
   "outputs": [
    {
     "name": "stdin",
     "output_type": "stream",
     "text": [
      "Enter the no. of key-value pairs you wanna create :  2\n",
      "Enter the key :  ty\n",
      "Enter the value :  hg\n",
      "Enter the key :  hjh\n",
      "Enter the value :  df\n"
     ]
    },
    {
     "name": "stdout",
     "output_type": "stream",
     "text": [
      "the generated dict is :\n",
      " {'ty': 'hg', 'hjh': 'df'}\n"
     ]
    }
   ],
   "source": [
    "n= int (input(\"Enter the no. of key-value pairs you wanna create : \"))\n",
    "\n",
    "for i in range (n):\n",
    "    key = input(\"Enter the key : \")\n",
    "    value = input(\"Enter the value : \")\n",
    "    dick.update({key : value})\n",
    "\n",
    "print (\"the generated dict is :\\n\", dick)"
   ]
  },
  {
   "cell_type": "code",
   "execution_count": 29,
   "id": "722acc0e-0f45-4839-8c6a-5c08016e9aae",
   "metadata": {},
   "outputs": [
    {
     "data": {
      "text/plain": [
       "['__and__',\n",
       " '__class__',\n",
       " '__class_getitem__',\n",
       " '__contains__',\n",
       " '__delattr__',\n",
       " '__dir__',\n",
       " '__doc__',\n",
       " '__eq__',\n",
       " '__format__',\n",
       " '__ge__',\n",
       " '__getattribute__',\n",
       " '__getstate__',\n",
       " '__gt__',\n",
       " '__hash__',\n",
       " '__iand__',\n",
       " '__init__',\n",
       " '__init_subclass__',\n",
       " '__ior__',\n",
       " '__isub__',\n",
       " '__iter__',\n",
       " '__ixor__',\n",
       " '__le__',\n",
       " '__len__',\n",
       " '__lt__',\n",
       " '__ne__',\n",
       " '__new__',\n",
       " '__or__',\n",
       " '__rand__',\n",
       " '__reduce__',\n",
       " '__reduce_ex__',\n",
       " '__repr__',\n",
       " '__ror__',\n",
       " '__rsub__',\n",
       " '__rxor__',\n",
       " '__setattr__',\n",
       " '__sizeof__',\n",
       " '__str__',\n",
       " '__sub__',\n",
       " '__subclasshook__',\n",
       " '__xor__',\n",
       " 'add',\n",
       " 'clear',\n",
       " 'copy',\n",
       " 'difference',\n",
       " 'difference_update',\n",
       " 'discard',\n",
       " 'intersection',\n",
       " 'intersection_update',\n",
       " 'isdisjoint',\n",
       " 'issubset',\n",
       " 'issuperset',\n",
       " 'pop',\n",
       " 'remove',\n",
       " 'symmetric_difference',\n",
       " 'symmetric_difference_update',\n",
       " 'union',\n",
       " 'update']"
      ]
     },
     "execution_count": 29,
     "metadata": {},
     "output_type": "execute_result"
    }
   ],
   "source": [
    "dir(set)"
   ]
  },
  {
   "cell_type": "code",
   "execution_count": 30,
   "id": "c20119f0-8c3c-4840-8f27-8f3f105ee7ae",
   "metadata": {},
   "outputs": [
    {
     "data": {
      "text/plain": [
       "['__and__',\n",
       " '__class__',\n",
       " '__class_getitem__',\n",
       " '__contains__',\n",
       " '__delattr__',\n",
       " '__dir__',\n",
       " '__doc__',\n",
       " '__eq__',\n",
       " '__format__',\n",
       " '__ge__',\n",
       " '__getattribute__',\n",
       " '__getstate__',\n",
       " '__gt__',\n",
       " '__hash__',\n",
       " '__iand__',\n",
       " '__init__',\n",
       " '__init_subclass__',\n",
       " '__ior__',\n",
       " '__isub__',\n",
       " '__iter__',\n",
       " '__ixor__',\n",
       " '__le__',\n",
       " '__len__',\n",
       " '__lt__',\n",
       " '__ne__',\n",
       " '__new__',\n",
       " '__or__',\n",
       " '__rand__',\n",
       " '__reduce__',\n",
       " '__reduce_ex__',\n",
       " '__repr__',\n",
       " '__ror__',\n",
       " '__rsub__',\n",
       " '__rxor__',\n",
       " '__setattr__',\n",
       " '__sizeof__',\n",
       " '__str__',\n",
       " '__sub__',\n",
       " '__subclasshook__',\n",
       " '__xor__',\n",
       " 'add',\n",
       " 'clear',\n",
       " 'copy',\n",
       " 'difference',\n",
       " 'difference_update',\n",
       " 'discard',\n",
       " 'intersection',\n",
       " 'intersection_update',\n",
       " 'isdisjoint',\n",
       " 'issubset',\n",
       " 'issuperset',\n",
       " 'pop',\n",
       " 'remove',\n",
       " 'symmetric_difference',\n",
       " 'symmetric_difference_update',\n",
       " 'union',\n",
       " 'update']"
      ]
     },
     "execution_count": 30,
     "metadata": {},
     "output_type": "execute_result"
    }
   ],
   "source": [
    "dir(set)"
   ]
  },
  {
   "cell_type": "code",
   "execution_count": 31,
   "id": "e9189822-5f51-4af9-aa06-a5b823afb570",
   "metadata": {},
   "outputs": [
    {
     "data": {
      "text/plain": [
       "['__class__',\n",
       " '__class_getitem__',\n",
       " '__contains__',\n",
       " '__delattr__',\n",
       " '__delitem__',\n",
       " '__dir__',\n",
       " '__doc__',\n",
       " '__eq__',\n",
       " '__format__',\n",
       " '__ge__',\n",
       " '__getattribute__',\n",
       " '__getitem__',\n",
       " '__getstate__',\n",
       " '__gt__',\n",
       " '__hash__',\n",
       " '__init__',\n",
       " '__init_subclass__',\n",
       " '__ior__',\n",
       " '__iter__',\n",
       " '__le__',\n",
       " '__len__',\n",
       " '__lt__',\n",
       " '__ne__',\n",
       " '__new__',\n",
       " '__or__',\n",
       " '__reduce__',\n",
       " '__reduce_ex__',\n",
       " '__repr__',\n",
       " '__reversed__',\n",
       " '__ror__',\n",
       " '__setattr__',\n",
       " '__setitem__',\n",
       " '__sizeof__',\n",
       " '__str__',\n",
       " '__subclasshook__',\n",
       " 'clear',\n",
       " 'copy',\n",
       " 'fromkeys',\n",
       " 'get',\n",
       " 'items',\n",
       " 'keys',\n",
       " 'pop',\n",
       " 'popitem',\n",
       " 'setdefault',\n",
       " 'update',\n",
       " 'values']"
      ]
     },
     "execution_count": 31,
     "metadata": {},
     "output_type": "execute_result"
    }
   ],
   "source": [
    "dir(dict)"
   ]
  },
  {
   "cell_type": "code",
   "execution_count": 32,
   "id": "b9d72cf6-61b5-4978-81bd-c1ad48341c51",
   "metadata": {},
   "outputs": [
    {
     "name": "stdout",
     "output_type": "stream",
     "text": [
      "hjh\n",
      "hjh\n",
      "hjh\n"
     ]
    }
   ],
   "source": [
    "dictu = {\n",
    "    \"name\" : \"rajesh\",\n",
    "    \"roll no.\" : 240686,\n",
    "    \"tejaswi\" : \"my love\"\n",
    "}\n",
    "for i in dictu:\n",
    "    print (key)"
   ]
  },
  {
   "cell_type": "code",
   "execution_count": 33,
   "id": "1bb80783-5088-45dd-b2c8-5c34bcce2d36",
   "metadata": {},
   "outputs": [
    {
     "name": "stdout",
     "output_type": "stream",
     "text": [
      "hjh\n",
      "hjh\n",
      "hjh\n"
     ]
    }
   ],
   "source": [
    "for i in dictu:\n",
    "    print (key)"
   ]
  },
  {
   "cell_type": "code",
   "execution_count": 35,
   "id": "94120518-2de3-4df0-9201-746c1c6977df",
   "metadata": {},
   "outputs": [
    {
     "name": "stdout",
     "output_type": "stream",
     "text": [
      "['banana', 'apple']\n"
     ]
    }
   ],
   "source": [
    "listu = [\"banana\", \"apple\", \"appo\"]\n",
    "listu.pop()\n",
    "print (listu)"
   ]
  },
  {
   "cell_type": "code",
   "execution_count": 37,
   "id": "f331874d-912d-4f21-9b61-9368ffeeca33",
   "metadata": {},
   "outputs": [
    {
     "name": "stdout",
     "output_type": "stream",
     "text": [
      "kamlesh\n",
      "handsome\n",
      "my love\n",
      "rajesh\n",
      "vedansh\n",
      "tejaswi\n",
      "rajesh\n",
      "vedansh\n",
      "tejaswi\n"
     ]
    }
   ],
   "source": [
    "hizru = {\n",
    "    \"rajesh\" : \"kamlesh\",\n",
    "    \"vedansh\" : \"handsome\",\n",
    "    \"tejaswi\" : \"my love\"\n",
    "}\n",
    "\n",
    "for i in hizru.values() :\n",
    "    print (i)\n",
    "\n",
    "for i in hizru.keys() :\n",
    "    print (i)\n",
    "\n",
    "for i in hizru:\n",
    "    print (i)"
   ]
  },
  {
   "cell_type": "code",
   "execution_count": null,
   "id": "8b71136e-9312-405e-81a1-537bc31b5dc1",
   "metadata": {},
   "outputs": [],
   "source": []
  }
 ],
 "metadata": {
  "kernelspec": {
   "display_name": "Python 3 (ipykernel)",
   "language": "python",
   "name": "python3"
  },
  "language_info": {
   "codemirror_mode": {
    "name": "ipython",
    "version": 3
   },
   "file_extension": ".py",
   "mimetype": "text/x-python",
   "name": "python",
   "nbconvert_exporter": "python",
   "pygments_lexer": "ipython3",
   "version": "3.13.0"
  }
 },
 "nbformat": 4,
 "nbformat_minor": 5
}
