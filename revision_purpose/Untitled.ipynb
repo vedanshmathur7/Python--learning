{
 "cells": [
  {
   "cell_type": "markdown",
   "id": "bd702002-b852-42ae-89d7-ca7592fbde9f",
   "metadata": {},
   "source": [
    "logic based practice set "
   ]
  },
  {
   "cell_type": "code",
   "execution_count": 1,
   "id": "3b108b29-8f72-41a5-8a80-e7f29c390967",
   "metadata": {},
   "outputs": [],
   "source": [
    "str_ = \"123\"\n",
    "str_int = int(str_)"
   ]
  },
  {
   "cell_type": "code",
   "execution_count": 2,
   "id": "e3adb732-06b2-4b26-a4d6-e606f2332957",
   "metadata": {},
   "outputs": [
    {
     "name": "stdout",
     "output_type": "stream",
     "text": [
      "<class 'int'>\n"
     ]
    }
   ],
   "source": [
    "print (type(str_int))"
   ]
  },
  {
   "cell_type": "code",
   "execution_count": 3,
   "id": "336d567f-0463-43ab-9eba-1870a2a749eb",
   "metadata": {},
   "outputs": [
    {
     "data": {
      "text/plain": [
       "133"
      ]
     },
     "execution_count": 3,
     "metadata": {},
     "output_type": "execute_result"
    }
   ],
   "source": [
    "str_int + 10"
   ]
  },
  {
   "cell_type": "code",
   "execution_count": 9,
   "id": "74a7cd6b-0bb2-4df5-b0f1-69d0b41a9cfc",
   "metadata": {},
   "outputs": [
    {
     "name": "stdout",
     "output_type": "stream",
     "text": [
      "<class 'str'>\n"
     ]
    }
   ],
   "source": [
    "flt = 4.89\n",
    "intu = int(flt)\n",
    "\n",
    "stri = \"89.08\"\n",
    "flou = float(stri)\n",
    "print (type(stri))"
   ]
  },
  {
   "cell_type": "code",
   "execution_count": null,
   "id": "ab732faf-11a0-4153-a17b-e55fa8d2423a",
   "metadata": {},
   "outputs": [],
   "source": []
  },
  {
   "cell_type": "code",
   "execution_count": 13,
   "id": "2a9c230d-22a3-4312-a3f0-220ae7e6ad10",
   "metadata": {},
   "outputs": [
    {
     "name": "stdout",
     "output_type": "stream",
     "text": [
      "The no. vowels are 5\n"
     ]
    }
   ],
   "source": [
    "string_ = \"abcdefghiuo\"\n",
    "count = 0\n",
    "\n",
    "for i in string_:    \n",
    "    if i in \"aeiou\":\n",
    "        count += 1\n",
    "print (f\"The no. vowels are {count}\")"
   ]
  },
  {
   "cell_type": "code",
   "execution_count": 15,
   "id": "4802d9dc-6e92-413b-92ea-941e6d793f5e",
   "metadata": {},
   "outputs": [
    {
     "data": {
      "text/plain": [
       "'ouihgfedcba'"
      ]
     },
     "execution_count": 15,
     "metadata": {},
     "output_type": "execute_result"
    }
   ],
   "source": [
    "string_[::-1]"
   ]
  },
  {
   "cell_type": "markdown",
   "id": "c7661a77-fa74-4279-b4dd-7f84bafc94bd",
   "metadata": {},
   "source": [
    "## to check whether the given input is pallindrome or not"
   ]
  },
  {
   "cell_type": "code",
   "execution_count": 46,
   "id": "99ac6418-5bbc-41b1-b5a1-61ea2613ade4",
   "metadata": {},
   "outputs": [
    {
     "name": "stdin",
     "output_type": "stream",
     "text": [
      "Enter the shit you wanna check the pallindrome of MF :  8998\n"
     ]
    },
    {
     "name": "stdout",
     "output_type": "stream",
     "text": [
      "The given input is pallindrome.\n"
     ]
    }
   ],
   "source": [
    "def pallindrome (maal):\n",
    "    reverse = inputt[::-1]\n",
    "    if inputt == reverse:\n",
    "        print (\"The given input is pallindrome.\")\n",
    "    else :\n",
    "        print (\"This ain't pallindrome MF !\")\n",
    "\n",
    "inputt = input (\"Enter the shit you wanna check the pallindrome of MF : \")\n",
    "pallindrome(inputt)\n"
   ]
  },
  {
   "cell_type": "code",
   "execution_count": 20,
   "id": "7ff6a55c-e501-4188-a3ee-27f9eae189e9",
   "metadata": {},
   "outputs": [],
   "source": [
    "lsit = []\n",
    "lsit.append(\"rajesh ki ghanti\")"
   ]
  },
  {
   "cell_type": "code",
   "execution_count": 21,
   "id": "cd96e028-e757-419e-8c3a-cb2e17c44d71",
   "metadata": {},
   "outputs": [
    {
     "name": "stdout",
     "output_type": "stream",
     "text": [
      "['rajesh ki ghanti']\n"
     ]
    }
   ],
   "source": [
    "print (lsit)"
   ]
  },
  {
   "cell_type": "code",
   "execution_count": 22,
   "id": "5b51c2af-cee0-4e38-8b40-1062ab66e354",
   "metadata": {},
   "outputs": [],
   "source": [
    "setu = set(lsit)"
   ]
  },
  {
   "cell_type": "code",
   "execution_count": 23,
   "id": "9bd3b3d2-82b5-467a-97dd-83a7c153c5e0",
   "metadata": {},
   "outputs": [
    {
     "name": "stdout",
     "output_type": "stream",
     "text": [
      "{'rajesh ki ghanti'}\n",
      "<class 'set'>\n"
     ]
    }
   ],
   "source": [
    "print (setu)\n",
    "print (type(setu))"
   ]
  },
  {
   "cell_type": "code",
   "execution_count": 26,
   "id": "98be34da-5078-49a9-b86e-ede7ac811a17",
   "metadata": {},
   "outputs": [],
   "source": [
    "setu.add(45)\n",
    "setu.add(45)\n",
    "setu.add(78)\n",
    "setu.add(90)"
   ]
  },
  {
   "cell_type": "code",
   "execution_count": 27,
   "id": "2212be76-46f7-4f91-a522-4f6f4ca5d2e5",
   "metadata": {},
   "outputs": [
    {
     "name": "stdout",
     "output_type": "stream",
     "text": [
      "{90, 45, 'rajesh ki ghanti', 78}\n"
     ]
    }
   ],
   "source": [
    "print (setu)"
   ]
  },
  {
   "cell_type": "code",
   "execution_count": 35,
   "id": "5e8fecb0-691c-4d85-ac24-393f4af52d07",
   "metadata": {},
   "outputs": [
    {
     "name": "stdin",
     "output_type": "stream",
     "text": [
      "enter the no. of rows of stars you wanna print :  10\n"
     ]
    },
    {
     "name": "stdout",
     "output_type": "stream",
     "text": [
      "*\n",
      "**\n",
      "***\n",
      "****\n",
      "*****\n",
      "******\n",
      "*******\n",
      "********\n",
      "*********\n",
      "**********\n"
     ]
    }
   ],
   "source": [
    "no = int (input (\"enter the no. of rows of stars you wanna print : \"))\n",
    "for i in range (1, no +1 ):\n",
    "    for j in range (i):\n",
    "        print ('*', end = '')\n",
    "    print ()"
   ]
  },
  {
   "cell_type": "code",
   "execution_count": 47,
   "id": "3591c401-8429-42ce-b327-229c28c676c6",
   "metadata": {},
   "outputs": [
    {
     "name": "stdin",
     "output_type": "stream",
     "text": [
      "Enter the no.  88\n"
     ]
    },
    {
     "name": "stdout",
     "output_type": "stream",
     "text": [
      "The no. is not prime.\n"
     ]
    }
   ],
   "source": [
    "number = int (input (\"Enter the no. \"))\n",
    "\n",
    "if number <= 1:\n",
    "    print (\"The no. is not prime.\")\n",
    "else :\n",
    "    for i in range (2, number):\n",
    "        if number % i == 0:\n",
    "            print (\"The no. is not prime.\")\n",
    "            break\n",
    "    else :\n",
    "            print (\"The no. is prime.\")\n",
    "   "
   ]
  },
  {
   "cell_type": "code",
   "execution_count": 58,
   "id": "fad856f1-eaa4-4ffe-b423-5e925d26fe18",
   "metadata": {},
   "outputs": [
    {
     "data": {
      "text/plain": [
       "[1, 56, 56, 78]"
      ]
     },
     "execution_count": 58,
     "metadata": {},
     "output_type": "execute_result"
    }
   ],
   "source": [
    "op = [56, 56, 78, 1]\n",
    "op.sort()\n",
    "op"
   ]
  },
  {
   "cell_type": "code",
   "execution_count": 44,
   "id": "1d12e90d-b211-4991-b740-bf50da37cc03",
   "metadata": {},
   "outputs": [
    {
     "name": "stdout",
     "output_type": "stream",
     "text": [
      "{56, 'Vedansh', 'Tejaswi', 78}\n"
     ]
    }
   ],
   "source": [
    "topi = set(op)\n",
    "print (topi)"
   ]
  },
  {
   "cell_type": "code",
   "execution_count": 54,
   "id": "2f762cb4-04cd-4ab4-a156-ddc2d206fc3f",
   "metadata": {},
   "outputs": [
    {
     "name": "stdout",
     "output_type": "stream",
     "text": [
      "120\n"
     ]
    }
   ],
   "source": [
    "def multiplication (*args):\n",
    "    result = 1\n",
    "    for digits in args:\n",
    "        result *= digits\n",
    "    return result\n",
    "\n",
    "print (multiplication(1, 2, 3, 4, 5))\n",
    "    "
   ]
  },
  {
   "cell_type": "code",
   "execution_count": 63,
   "id": "f929e35c-8356-4313-9126-7a0949992702",
   "metadata": {},
   "outputs": [
    {
     "name": "stdout",
     "output_type": "stream",
     "text": [
      "152\n"
     ]
    }
   ],
   "source": [
    "sumo = [4, 6, 7, 7, 6, 7, 8 ,8, 10, 89 ]\n",
    "result = 0\n",
    "for i in sumo:\n",
    "    result += i\n",
    "print (result)"
   ]
  },
  {
   "cell_type": "code",
   "execution_count": 64,
   "id": "0b57cb10-eb8f-4757-b9be-295aece2f75e",
   "metadata": {},
   "outputs": [
    {
     "data": {
      "text/plain": [
       "False"
      ]
     },
     "execution_count": 64,
     "metadata": {},
     "output_type": "execute_result"
    }
   ],
   "source": [
    "99 in sumo"
   ]
  },
  {
   "cell_type": "code",
   "execution_count": 65,
   "id": "c3c20f56-474e-432e-8293-59a1e5cff518",
   "metadata": {},
   "outputs": [
    {
     "name": "stdout",
     "output_type": "stream",
     "text": [
      "4\n",
      "6\n",
      "6\n",
      "8\n",
      "8\n",
      "10\n"
     ]
    }
   ],
   "source": [
    "for i in sumo :\n",
    "    if i % 2 == 0:\n",
    "        print (i)\n"
   ]
  },
  {
   "cell_type": "code",
   "execution_count": 66,
   "id": "432d5331-4da2-4b38-80c3-9909fd7f72fb",
   "metadata": {},
   "outputs": [],
   "source": [
    "sumo.append(\"vedansh\")"
   ]
  },
  {
   "cell_type": "code",
   "execution_count": 67,
   "id": "d6260851-9cd6-4295-8e33-de6597603840",
   "metadata": {},
   "outputs": [],
   "source": [
    "sumo.remove(\"vedansh\")"
   ]
  },
  {
   "cell_type": "code",
   "execution_count": 68,
   "id": "561742f1-a041-4ba1-902b-e7d2df5ea801",
   "metadata": {},
   "outputs": [
    {
     "data": {
      "text/plain": [
       "[4, 6, 7, 7, 6, 7, 8, 8, 10, 89]"
      ]
     },
     "execution_count": 68,
     "metadata": {},
     "output_type": "execute_result"
    }
   ],
   "source": [
    "sumo"
   ]
  },
  {
   "cell_type": "code",
   "execution_count": 69,
   "id": "a463f926-2a88-4bf2-89f4-0d88d7a6f257",
   "metadata": {},
   "outputs": [],
   "source": [
    "sumo.reverse()"
   ]
  },
  {
   "cell_type": "code",
   "execution_count": 70,
   "id": "73e38167-48dc-48fa-991a-e3d069a78eb8",
   "metadata": {},
   "outputs": [
    {
     "data": {
      "text/plain": [
       "[89, 10, 8, 8, 7, 6, 7, 7, 6, 4]"
      ]
     },
     "execution_count": 70,
     "metadata": {},
     "output_type": "execute_result"
    }
   ],
   "source": [
    "sumo"
   ]
  },
  {
   "cell_type": "code",
   "execution_count": 71,
   "id": "3060fbf3-4356-4339-aafa-acfc0ed182ff",
   "metadata": {},
   "outputs": [
    {
     "data": {
      "text/plain": [
       "10"
      ]
     },
     "execution_count": 71,
     "metadata": {},
     "output_type": "execute_result"
    }
   ],
   "source": [
    "len(sumo)"
   ]
  },
  {
   "cell_type": "code",
   "execution_count": 78,
   "id": "e3970e9a-585e-40ce-9f0f-f7dcaf4490b8",
   "metadata": {},
   "outputs": [
    {
     "name": "stdout",
     "output_type": "stream",
     "text": [
      "The list not empty\n",
      "The list is empty\n"
     ]
    }
   ],
   "source": [
    "def check_empty (list1):\n",
    "    if len(list1) == 0:\n",
    "        return \"The list is empty\"\n",
    "    else:\n",
    "        return \"The list not empty\"\n",
    "\n",
    "vedansh = []\n",
    "print (check_empty(sumo))\n",
    "print (check_empty(vedansh))"
   ]
  },
  {
   "cell_type": "code",
   "execution_count": 79,
   "id": "5f0d094b-bbf4-4fa9-9e47-94835dcb25a9",
   "metadata": {},
   "outputs": [
    {
     "data": {
      "text/plain": [
       "[89, 10, 8, 8, 7, 6, 7, 7, 6, 4]"
      ]
     },
     "execution_count": 79,
     "metadata": {},
     "output_type": "execute_result"
    }
   ],
   "source": [
    "sumo"
   ]
  },
  {
   "cell_type": "code",
   "execution_count": 80,
   "id": "a9131415-d4c2-4193-a386-52099262f718",
   "metadata": {},
   "outputs": [
    {
     "data": {
      "text/plain": [
       "2"
      ]
     },
     "execution_count": 80,
     "metadata": {},
     "output_type": "execute_result"
    }
   ],
   "source": [
    "sumo.count(8)"
   ]
  },
  {
   "cell_type": "code",
   "execution_count": 81,
   "id": "2698ed17-b43c-4313-bc71-37bbec4e755f",
   "metadata": {},
   "outputs": [],
   "source": [
    "sumo.append(-3)\n",
    "sumo.append(-10)\n",
    "sumo.append(-77)"
   ]
  },
  {
   "cell_type": "code",
   "execution_count": 82,
   "id": "23f45452-2fca-48ce-9f13-90db167a393f",
   "metadata": {},
   "outputs": [
    {
     "data": {
      "text/plain": [
       "[89, 10, 8, 8, 7, 6, 7, 7, 6, 4, -3, -10, -77]"
      ]
     },
     "execution_count": 82,
     "metadata": {},
     "output_type": "execute_result"
    }
   ],
   "source": [
    "sumo"
   ]
  },
  {
   "cell_type": "code",
   "execution_count": 85,
   "id": "d2bf703b-3a4b-4f36-af69-224eddc426f6",
   "metadata": {},
   "outputs": [],
   "source": [
    "for i in range(len(sumo)):\n",
    "    if sumo[i] <0:\n",
    "        sumo[i] = 0"
   ]
  },
  {
   "cell_type": "code",
   "execution_count": 86,
   "id": "9f44158c-a8ec-4a66-b0f6-6b8480add854",
   "metadata": {},
   "outputs": [
    {
     "data": {
      "text/plain": [
       "[89, 10, 8, 8, 7, 6, 7, 7, 6, 4, 0, 0, 0]"
      ]
     },
     "execution_count": 86,
     "metadata": {},
     "output_type": "execute_result"
    }
   ],
   "source": [
    "sumo"
   ]
  },
  {
   "cell_type": "code",
   "execution_count": 87,
   "id": "105d99f4-79d9-4473-8c97-5ff153e7b8b9",
   "metadata": {},
   "outputs": [],
   "source": [
    "op = [89, 90, 77, \"ved\"]\n",
    "sumo.extend(op)"
   ]
  },
  {
   "cell_type": "code",
   "execution_count": 88,
   "id": "005d2240-a3a3-42ab-aa59-061f1a47e099",
   "metadata": {},
   "outputs": [
    {
     "data": {
      "text/plain": [
       "[89, 10, 8, 8, 7, 6, 7, 7, 6, 4, 0, 0, 0, 89, 90, 77, 'ved']"
      ]
     },
     "execution_count": 88,
     "metadata": {},
     "output_type": "execute_result"
    }
   ],
   "source": [
    "sumo"
   ]
  },
  {
   "cell_type": "code",
   "execution_count": 1,
   "id": "788db1ae-169b-429e-b40d-ae39f41175dd",
   "metadata": {},
   "outputs": [],
   "source": [
    "cars = [\"tata sumo\", \"sukuna kumamri\"]"
   ]
  },
  {
   "cell_type": "code",
   "execution_count": 3,
   "id": "2023ff36-328e-4e9b-b2be-1edfbd6865d1",
   "metadata": {},
   "outputs": [
    {
     "data": {
      "text/plain": [
       "0"
      ]
     },
     "execution_count": 3,
     "metadata": {},
     "output_type": "execute_result"
    }
   ],
   "source": [
    "cars.index(\"tata sumo\")"
   ]
  },
  {
   "cell_type": "code",
   "execution_count": 4,
   "id": "832096ae-b43f-469d-9170-3e7b153d50e1",
   "metadata": {},
   "outputs": [],
   "source": [
    "squares = [x*x for x in range (1,100)]"
   ]
  },
  {
   "cell_type": "code",
   "execution_count": 5,
   "id": "62647310-27f0-4be4-80ab-0965af2850d9",
   "metadata": {},
   "outputs": [
    {
     "name": "stdout",
     "output_type": "stream",
     "text": [
      "[1, 4, 9, 16, 25, 36, 49, 64, 81, 100, 121, 144, 169, 196, 225, 256, 289, 324, 361, 400, 441, 484, 529, 576, 625, 676, 729, 784, 841, 900, 961, 1024, 1089, 1156, 1225, 1296, 1369, 1444, 1521, 1600, 1681, 1764, 1849, 1936, 2025, 2116, 2209, 2304, 2401, 2500, 2601, 2704, 2809, 2916, 3025, 3136, 3249, 3364, 3481, 3600, 3721, 3844, 3969, 4096, 4225, 4356, 4489, 4624, 4761, 4900, 5041, 5184, 5329, 5476, 5625, 5776, 5929, 6084, 6241, 6400, 6561, 6724, 6889, 7056, 7225, 7396, 7569, 7744, 7921, 8100, 8281, 8464, 8649, 8836, 9025, 9216, 9409, 9604, 9801]\n"
     ]
    }
   ],
   "source": [
    "print (squares)"
   ]
  },
  {
   "cell_type": "code",
   "execution_count": 6,
   "id": "71f86e84-280d-4d4e-9b53-83f00e9920cc",
   "metadata": {},
   "outputs": [],
   "source": [
    "even = [x for x in range (1,100) if x % 2 == 0 ]"
   ]
  },
  {
   "cell_type": "code",
   "execution_count": 8,
   "id": "74b02719-869f-4980-9620-56bb78410561",
   "metadata": {},
   "outputs": [
    {
     "name": "stdout",
     "output_type": "stream",
     "text": [
      "[2, 4, 6, 8, 10, 12, 14, 16, 18, 20, 22, 24, 26, 28, 30, 32, 34, 36, 38, 40, 42, 44, 46, 48, 50, 52, 54, 56, 58, 60, 62, 64, 66, 68, 70, 72, 74, 76, 78, 80, 82, 84, 86, 88, 90, 92, 94, 96, 98]\n"
     ]
    }
   ],
   "source": [
    "print (even)"
   ]
  },
  {
   "cell_type": "markdown",
   "id": "28eefd3a-4bd9-432b-9cb0-f3657c2c4951",
   "metadata": {},
   "source": [
    "## Given a string \"Hello, world! Hello, Python!\", replace \"Hello\" with \"Hi\" and find the position of \"Python\" in the modified string."
   ]
  },
  {
   "cell_type": "code",
   "execution_count": 18,
   "id": "5c0cd68b-2a97-4902-9c96-562c1bf7a1b2",
   "metadata": {},
   "outputs": [
    {
     "name": "stdout",
     "output_type": "stream",
     "text": [
      "15\n",
      "Hi, world! Hi, Python!\n"
     ]
    }
   ],
   "source": [
    "stri = \"Hello, world! Hello, Python!\" \n",
    "stri = stri.replace(\"Hello\",\"Hi\")\n",
    "print (stri.index(\"Python\"))\n",
    "print (stri)"
   ]
  },
  {
   "cell_type": "markdown",
   "id": "000d677d-1f4f-4ad0-9c16-86d3f2dc1dd5",
   "metadata": {},
   "source": [
    "## Write a program that takes a sentence, splits it into words, and then joins the words back using a \"-\" separator."
   ]
  },
  {
   "cell_type": "code",
   "execution_count": 28,
   "id": "4146bce5-7f79-49ef-abe3-48313e3813f3",
   "metadata": {},
   "outputs": [
    {
     "name": "stdout",
     "output_type": "stream",
     "text": [
      "rajesh-ki-ghnti\n"
     ]
    }
   ],
   "source": [
    "op = \"rajesh ki ghnti\"\n",
    "op = op.split()\n",
    "op = \"-\".join(op)\n",
    "print (op)"
   ]
  },
  {
   "cell_type": "markdown",
   "id": "66869e05-d77d-41ac-ac66-bc4257518759",
   "metadata": {},
   "source": [
    "## Given the string \"PythonProgramming\", extract the substring \"Python\", \"Programming\", and print every alternate character from the full string."
   ]
  },
  {
   "cell_type": "code",
   "execution_count": 30,
   "id": "08c6374a-6548-4c91-b1db-68fa6e62d676",
   "metadata": {},
   "outputs": [
    {
     "name": "stdout",
     "output_type": "stream",
     "text": [
      "Python\n",
      "Programming\n",
      "PtoPormig\n"
     ]
    }
   ],
   "source": [
    "op = \"PythonProgramming\"\n",
    "part1 = op[0:6]\n",
    "part2 = op[6:] # till end\n",
    "alternative = op[::2]\n",
    "\n",
    "print (part1)\n",
    "print (part2)\n",
    "print (alternative)"
   ]
  },
  {
   "cell_type": "markdown",
   "id": "75ae5179-ff61-4ff2-b056-19aae0699f6a",
   "metadata": {},
   "source": [
    "## Given a list of numbers, use an if condition inside a loop to remove all even numbers."
   ]
  },
  {
   "cell_type": "code",
   "execution_count": 35,
   "id": "7b3e1dcc-615a-40bc-af50-678af11a596d",
   "metadata": {},
   "outputs": [
    {
     "data": {
      "text/plain": [
       "[67, 89, 105]"
      ]
     },
     "execution_count": 35,
     "metadata": {},
     "output_type": "execute_result"
    }
   ],
   "source": [
    "op = [34, 67, 89, 88, 100, 105]\n",
    "op = [x for x in op if x % 2 != 0]\n",
    "op"
   ]
  },
  {
   "cell_type": "markdown",
   "id": "3b8d79b8-89dc-42da-8cfc-4a4b9a98c753",
   "metadata": {},
   "source": [
    "## Given a string, count the number of vowels (a, e, i, o, u). If the count is greater than 5, print \"Lots of vowels\", else print \"Few vowels\"."
   ]
  },
  {
   "cell_type": "code",
   "execution_count": 37,
   "id": "84c83841-0811-4eae-9a77-ede271b959e5",
   "metadata": {},
   "outputs": [
    {
     "name": "stdout",
     "output_type": "stream",
     "text": [
      "Lots of vowels !\n"
     ]
    }
   ],
   "source": [
    "op = \"python ki maakicu\"\n",
    "count = 0\n",
    "\n",
    "for i in op:\n",
    "    if i.lower() in \"aeiou\":\n",
    "        count += 1\n",
    "\n",
    "if count > 5 :\n",
    "    print (\"Lots of vowels !\")\n",
    "else :\n",
    "    print (\"Few vowels\")"
   ]
  },
  {
   "cell_type": "markdown",
   "id": "2c79f204-f5d7-425c-8209-abf802766fad",
   "metadata": {},
   "source": [
    "## Take two strings as input. If they contain the same characters in a different order, print \"Anagrams\", otherwise print \"Not anagrams\"."
   ]
  },
  {
   "cell_type": "code",
   "execution_count": 45,
   "id": "87edf363-c770-4d75-87d8-022339bfbd05",
   "metadata": {},
   "outputs": [
    {
     "name": "stdout",
     "output_type": "stream",
     "text": [
      "Yes it is anagram\n"
     ]
    }
   ],
   "source": [
    "op = \"python ki maakichu\"\n",
    "topi = \"maakichu ki python\"\n",
    "\n",
    "op_clean = op.replace(\" \", \"\")\n",
    "topi_clean = topi.replace(\" \", \"\")\n",
    "\n",
    "sorted_op = sorted(op_clean)\n",
    "sorted_topi = sorted(topi_clean)\n",
    "\n",
    "if sorted_op == sorted_topi:\n",
    "    print (\"Yes it is anagram\")\n",
    "else :\n",
    "    print (\"no it is not\")"
   ]
  },
  {
   "cell_type": "markdown",
   "id": "b86b9eeb-05c2-4c61-bf97-80cf82684ee4",
   "metadata": {},
   "source": [
    "## Find Common Elements Between List and Tuple Using a Set"
   ]
  },
  {
   "cell_type": "code",
   "execution_count": 46,
   "id": "53aeb2a6-25a6-4597-adca-44b1e165f67c",
   "metadata": {},
   "outputs": [
    {
     "name": "stdout",
     "output_type": "stream",
     "text": [
      "{89, 100}\n"
     ]
    }
   ],
   "source": [
    "op = [89, 90, 100, 78]\n",
    "topi = (45, 67, 89, 100)\n",
    "\n",
    "common = set(op).intersection(set(topi))\n",
    "print (common)"
   ]
  },
  {
   "cell_type": "markdown",
   "id": "ae15076a-facd-4349-87fb-16178f960549",
   "metadata": {},
   "source": [
    "## Find Elements in a Tuple That Are Not in a List Using a Set"
   ]
  },
  {
   "cell_type": "code",
   "execution_count": 47,
   "id": "85655ab3-d290-4e8b-9ed7-c45881caac2b",
   "metadata": {},
   "outputs": [
    {
     "name": "stdout",
     "output_type": "stream",
     "text": [
      "{67, 45}\n"
     ]
    }
   ],
   "source": [
    "op = [89, 90, 100, 78]\n",
    "topi = (45, 67, 89, 100)\n",
    "\n",
    "print(set(topi) - set(op))"
   ]
  },
  {
   "cell_type": "markdown",
   "id": "5d59142c-6272-48b7-b7a9-1d6072a06b4b",
   "metadata": {},
   "source": [
    "## Sort a List, convert to a Tuple, and Find Unique Elements Using a Set"
   ]
  },
  {
   "cell_type": "code",
   "execution_count": 56,
   "id": "ebacfbe4-c2ca-41b3-be5e-0be8dfaf1940",
   "metadata": {},
   "outputs": [
    {
     "name": "stdout",
     "output_type": "stream",
     "text": [
      "{89, 90, 100, 78}\n"
     ]
    }
   ],
   "source": [
    "op = [89, 90, 90, 100, 78, 100]\n",
    "sorted_op = sorted(op)\n",
    "topi = tuple(sorted_op)\n",
    "setu = set(topi)\n",
    "\n",
    "print (setu)"
   ]
  },
  {
   "cell_type": "markdown",
   "id": "c04c3000-5972-4e36-985a-21bd63573a4a",
   "metadata": {},
   "source": [
    "## Sort a List of Tuples Based on the Second Element and Remove Duplicates"
   ]
  },
  {
   "cell_type": "code",
   "execution_count": 61,
   "id": "ffdfc53e-901f-4db3-9b5f-d7593e39c484",
   "metadata": {},
   "outputs": [
    {
     "name": "stdout",
     "output_type": "stream",
     "text": [
      "[(3, 1), (9, 1), (6, 7), (7, 8)]\n"
     ]
    }
   ],
   "source": [
    "op= [(3,1), (3,1), (7,8), (9,1), (6,7), (6,7)]\n",
    "topi = list(set(op))\n",
    "\n",
    "topi.sort(key = lambda x: x[1])\n",
    "print (topi)"
   ]
  },
  {
   "cell_type": "markdown",
   "id": "c6ad4609-c57f-4df6-925f-756df720a580",
   "metadata": {},
   "source": [
    "## Merge Two Lists, Keep Unique Elements, and Convert to a Tuple"
   ]
  },
  {
   "cell_type": "code",
   "execution_count": 66,
   "id": "d820169c-a20f-4052-994d-d696413f6424",
   "metadata": {},
   "outputs": [
    {
     "name": "stdout",
     "output_type": "stream",
     "text": [
      "(34, 67, 100, 105, 78, 88, 89, 90)\n"
     ]
    }
   ],
   "source": [
    "op = [89, 90, 90, 100, 78, 100]\n",
    "topi = [34, 67, 89, 88, 100, 105]\n",
    "\n",
    "op.extend(topi)\n",
    "mergesh = tuple(set(op))\n",
    "print (mergesh)"
   ]
  },
  {
   "cell_type": "markdown",
   "id": "28db0e15-3429-4cd7-9b75-71e163a9120d",
   "metadata": {},
   "source": [
    "## Reverse a Tuple Using a For Loop"
   ]
  },
  {
   "cell_type": "code",
   "execution_count": 67,
   "id": "7a9c13b4-9057-466f-b4fa-6a0dd246ff0f",
   "metadata": {},
   "outputs": [
    {
     "name": "stdout",
     "output_type": "stream",
     "text": [
      "(100, 78, 100, 90, 90, 89)\n"
     ]
    }
   ],
   "source": [
    "op = (89, 90, 90, 100, 78, 100)\n",
    "print (op[::-1])"
   ]
  },
  {
   "cell_type": "markdown",
   "id": "a8edd1fa-7a91-4dd7-94cb-f4791da49957",
   "metadata": {},
   "source": [
    "## Write a function that takes a list of numbers and returns the sum of all elements using a for loop."
   ]
  },
  {
   "cell_type": "code",
   "execution_count": 68,
   "id": "f488de39-2a5c-44d3-8319-3974b051c0a2",
   "metadata": {},
   "outputs": [
    {
     "data": {
      "text/plain": [
       "21"
      ]
     },
     "execution_count": 68,
     "metadata": {},
     "output_type": "execute_result"
    }
   ],
   "source": [
    "def sum (op):\n",
    "    sum = 0\n",
    "    for i in op:\n",
    "        sum += i\n",
    "\n",
    "    return sum\n",
    "\n",
    "op = [1, 4, 6, 10]\n",
    "sum(op)"
   ]
  },
  {
   "cell_type": "markdown",
   "id": "9151c993-1c03-400a-bc42-20cedabd0b83",
   "metadata": {},
   "source": [
    "## Write a function that removes all duplicate elements from a list using a while loop."
   ]
  },
  {
   "cell_type": "code",
   "execution_count": 69,
   "id": "a94005a5-5e75-48c6-acd1-e6c77a4278a1",
   "metadata": {},
   "outputs": [
    {
     "name": "stdout",
     "output_type": "stream",
     "text": [
      "List after removing duplicates: [1, 2, 3, 4, 5]\n"
     ]
    }
   ],
   "source": [
    "def remove_duplicates(lst):\n",
    "    unique = []\n",
    "    i = 0\n",
    "    while i < len(lst):\n",
    "        if lst[i] not in unique:\n",
    "            unique.append(lst[i])\n",
    "        i += 1\n",
    "    return unique\n",
    "\n",
    "# Example usage:\n",
    "my_list = [1, 2, 3, 2, 4, 1, 5, 3]\n",
    "result = remove_duplicates(my_list)\n",
    "print(\"List after removing duplicates:\", result)"
   ]
  },
  {
   "cell_type": "markdown",
   "id": "7737dce3-4233-4f99-a2cb-585211465318",
   "metadata": {},
   "source": [
    "## Write a function to find the maximum number in a list using a for loop."
   ]
  },
  {
   "cell_type": "code",
   "execution_count": 70,
   "id": "3a6f2e28-0dfd-4dcd-9948-5b97064d21a1",
   "metadata": {},
   "outputs": [
    {
     "name": "stdout",
     "output_type": "stream",
     "text": [
      "Maximum number is: 67\n"
     ]
    }
   ],
   "source": [
    "def find_maximum(lst):\n",
    "    if not lst:\n",
    "        return None  # Return None for an empty list\n",
    "\n",
    "    max_num = lst[0]\n",
    "    for num in lst:\n",
    "        if num > max_num:\n",
    "            max_num = num\n",
    "    return max_num\n",
    "\n",
    "# Example usage:\n",
    "my_list = [23, 45, 12, 67, 34]\n",
    "result = find_maximum(my_list)\n",
    "print(\"Maximum number is:\", result)"
   ]
  },
  {
   "cell_type": "markdown",
   "id": "f8e6a847-b1c4-447f-bafa-addc501f6bbb",
   "metadata": {},
   "source": [
    "## Implement a function that checks if a given element exists in a list using a while loop."
   ]
  },
  {
   "cell_type": "code",
   "execution_count": 71,
   "id": "f8bcf368-b4d3-4577-8b38-fbf487f74193",
   "metadata": {},
   "outputs": [
    {
     "name": "stdout",
     "output_type": "stream",
     "text": [
      "30 exists in the list.\n"
     ]
    }
   ],
   "source": [
    "def element_exists(lst, target):\n",
    "    i = 0\n",
    "    while i < len(lst):\n",
    "        if lst[i] == target:\n",
    "            return True\n",
    "        i += 1\n",
    "    return False\n",
    "\n",
    "# Example usage:\n",
    "my_list = [10, 20, 30, 40, 50]\n",
    "element = 30\n",
    "\n",
    "if element_exists(my_list, element):\n",
    "    print(f\"{element} exists in the list.\")\n",
    "else:\n",
    "    print(f\"{element} does not exist in the list.\")"
   ]
  },
  {
   "cell_type": "markdown",
   "id": "ad7b884f-37b9-47f1-8131-ea21d252a277",
   "metadata": {},
   "source": [
    "## Write a function that takes a tuple of numbers and returns a new tuple with only even numbers."
   ]
  },
  {
   "cell_type": "code",
   "execution_count": 72,
   "id": "a1bebe1f-fcdd-4ca7-8af0-d0110766460b",
   "metadata": {},
   "outputs": [
    {
     "name": "stdout",
     "output_type": "stream",
     "text": [
      "Even numbers tuple: (10, 22, 42)\n"
     ]
    }
   ],
   "source": [
    "def filter_even_numbers(tup):\n",
    "    even_numbers = ()\n",
    "    for num in tup:\n",
    "        if num % 2 == 0:\n",
    "            even_numbers += (num,)\n",
    "    return even_numbers\n",
    "\n",
    "# Example usage:\n",
    "numbers = (10, 15, 22, 33, 42, 55)\n",
    "result = filter_even_numbers(numbers)\n",
    "print(\"Even numbers tuple:\", result)"
   ]
  },
  {
   "cell_type": "markdown",
   "id": "30e35060-dd11-4769-b270-95bb3a2bada1",
   "metadata": {},
   "source": [
    "## Write a function that finds the index of a given element in a tuple using a for loop.  "
   ]
  },
  {
   "cell_type": "code",
   "execution_count": 73,
   "id": "3aae92e9-7204-40ad-ad17-c7ce4b35312b",
   "metadata": {},
   "outputs": [
    {
     "name": "stdout",
     "output_type": "stream",
     "text": [
      "Element 30 found at index 2.\n"
     ]
    }
   ],
   "source": [
    "def find_index(tup, target):\n",
    "    for i in range(len(tup)):\n",
    "        if tup[i] == target:\n",
    "            return i\n",
    "    return -1  # return -1 if not found\n",
    "\n",
    "# Example usage:\n",
    "numbers = (10, 20, 30, 40, 50)\n",
    "element = 30\n",
    "\n",
    "index = find_index(numbers, element)\n",
    "if index != -1:\n",
    "    print(f\"Element {element} found at index {index}.\")\n",
    "else:\n",
    "    print(f\"Element {element} not found.\")"
   ]
  },
  {
   "cell_type": "markdown",
   "id": "223ab765-1830-48c1-951f-634675dc48b5",
   "metadata": {},
   "source": [
    "## Create a function that converts a tuple of numbers into a list, modifies it, and returns the new tuple."
   ]
  },
  {
   "cell_type": "code",
   "execution_count": 74,
   "id": "4e72f5d6-196c-4d02-b596-60082c564b68",
   "metadata": {},
   "outputs": [
    {
     "name": "stdout",
     "output_type": "stream",
     "text": [
      "Original Tuple: (1, 2, 3, 4)\n",
      "Modified Tuple: (11, 12, 13, 14)\n"
     ]
    }
   ],
   "source": [
    "def modify_and_return_tuple(tup):\n",
    "    num_list = list(tup)  # Convert tuple to list\n",
    "\n",
    "    # Modify the list (e.g., add 10 to each number)\n",
    "    for i in range(len(num_list)):\n",
    "        num_list[i] += 10\n",
    "\n",
    "    return tuple(num_list)  # Convert back to tuple and return\n",
    "\n",
    "# Example usage:\n",
    "original_tuple = (1, 2, 3, 4)\n",
    "new_tuple = modify_and_return_tuple(original_tuple)\n",
    "\n",
    "print(\"Original Tuple:\", original_tuple)\n",
    "print(\"Modified Tuple:\", new_tuple)"
   ]
  },
  {
   "cell_type": "markdown",
   "id": "308559ef-2e87-4929-9ec9-7ced2c80eb18",
   "metadata": {},
   "source": [
    "## Implement a function to merge two tuples using a for loop.\n"
   ]
  },
  {
   "cell_type": "code",
   "execution_count": 75,
   "id": "0af58267-91b6-4ee8-b618-d2c81af1df6b",
   "metadata": {},
   "outputs": [
    {
     "name": "stdout",
     "output_type": "stream",
     "text": [
      "Merged Tuple: (1, 2, 3, 4, 5, 6)\n"
     ]
    }
   ],
   "source": [
    "def merge_tuples(tup1, tup2):\n",
    "    merged_list = []\n",
    "\n",
    "    for item in tup1:\n",
    "        merged_list.append(item)\n",
    "    for item in tup2:\n",
    "        merged_list.append(item)\n",
    "\n",
    "    return tuple(merged_list)\n",
    "\n",
    "# Example usage:\n",
    "tuple1 = (1, 2, 3)\n",
    "tuple2 = (4, 5, 6)\n",
    "result = merge_tuples(tuple1, tuple2)\n",
    "\n",
    "print(\"Merged Tuple:\", result)"
   ]
  },
  {
   "cell_type": "markdown",
   "id": "945cea06-ecc4-456b-bca0-d37827fc0104",
   "metadata": {},
   "source": [
    "## Write a function to check if all elements of one set exist in another set using a loop."
   ]
  },
  {
   "cell_type": "code",
   "execution_count": 76,
   "id": "bba9cc27-321e-4c0b-a0a6-dedbbd401a3d",
   "metadata": {},
   "outputs": [
    {
     "name": "stdout",
     "output_type": "stream",
     "text": [
      "Is a subset: True\n"
     ]
    }
   ],
   "source": [
    "def is_subset(set1, set2):\n",
    "    for item in set1:\n",
    "        if item not in set2:\n",
    "            return False\n",
    "    return True\n",
    "\n",
    "# Example usage:\n",
    "a = {1, 2, 3}\n",
    "b = {1, 2, 3, 4, 5}\n",
    "\n",
    "print(\"Is a subset:\", is_subset(a, b))  # Output: True"
   ]
  },
  {
   "cell_type": "markdown",
   "id": "6ea28310-be88-4a07-9596-157a29e8a8c8",
   "metadata": {},
   "source": [
    "## Emplement a function that finds the difference between two sets without using built-in methods."
   ]
  },
  {
   "cell_type": "code",
   "execution_count": 77,
   "id": "64927ec9-d9c9-46ba-811d-9b4ad131cc6d",
   "metadata": {},
   "outputs": [
    {
     "name": "stdout",
     "output_type": "stream",
     "text": [
      "Difference: {1, 2, 5}\n"
     ]
    }
   ],
   "source": [
    "def set_difference(set1, set2):\n",
    "    diff = set()\n",
    "    for item in set1:\n",
    "        if item not in set2:\n",
    "            diff.add(item)\n",
    "    return diff\n",
    "\n",
    "# Example usage:\n",
    "a = {1, 2, 3, 4, 5}\n",
    "b = {3, 4, 6}\n",
    "\n",
    "print(\"Difference:\", set_difference(a, b))  # Output: {1, 2, 5}"
   ]
  },
  {
   "cell_type": "markdown",
   "id": "937bd8b0-ac5d-4a60-968d-78941af4b97a",
   "metadata": {},
   "source": [
    "## Write a function that converts a set to a list and returns the sorted list using a for loop."
   ]
  },
  {
   "cell_type": "code",
   "execution_count": 78,
   "id": "3d2bcade-1671-483a-a2dc-78bd944541f6",
   "metadata": {},
   "outputs": [
    {
     "name": "stdout",
     "output_type": "stream",
     "text": [
      "Sorted List: [1, 2, 3, 5, 8]\n"
     ]
    }
   ],
   "source": [
    "def set_to_sorted_list(s):\n",
    "    lst = list(s)  # Convert set to list\n",
    "\n",
    "    # Simple bubble sort using for loops\n",
    "    n = len(lst)\n",
    "    for i in range(n):\n",
    "        for j in range(0, n - i - 1):\n",
    "            if lst[j] > lst[j + 1]:\n",
    "                lst[j], lst[j + 1] = lst[j + 1], lst[j]  # Swap\n",
    "\n",
    "    return lst\n",
    "\n",
    "# Example usage:\n",
    "my_set = {5, 3, 8, 1, 2}\n",
    "sorted_list = set_to_sorted_list(my_set)\n",
    "\n",
    "print(\"Sorted List:\", sorted_list)"
   ]
  },
  {
   "cell_type": "markdown",
   "id": "c1cbd7d1-e49c-4019-a713-f0aa9cb16a04",
   "metadata": {},
   "source": [
    "## Write a function that takes a dictionary and returns a list of all its keys using a loop."
   ]
  },
  {
   "cell_type": "code",
   "execution_count": 79,
   "id": "a4eab790-cba2-45bb-b827-57f9790dfcbd",
   "metadata": {},
   "outputs": [
    {
     "name": "stdout",
     "output_type": "stream",
     "text": [
      "['a', 'b', 'c']\n"
     ]
    }
   ],
   "source": [
    "def get_keys(dic):\n",
    "    keys_list = []\n",
    "    for key in dic:\n",
    "        keys_list.append(key)\n",
    "    return keys_list\n",
    "\n",
    "# Example usage:\n",
    "my_dict = {'a': 1, 'b': 2, 'c': 3}\n",
    "keys = get_keys(my_dict)\n",
    "print(keys)"
   ]
  },
  {
   "cell_type": "markdown",
   "id": "bc91f836-b174-4544-8678-8ef135c81004",
   "metadata": {},
   "source": [
    "## Create a function that finds the key with the highest value in a dictionary."
   ]
  },
  {
   "cell_type": "code",
   "execution_count": 80,
   "id": "596e49f7-0791-49c7-b6c0-d261206ffdf4",
   "metadata": {},
   "outputs": [
    {
     "name": "stdout",
     "output_type": "stream",
     "text": [
      "b\n"
     ]
    }
   ],
   "source": [
    "def key_with_max_value(dic):\n",
    "    max_key = None\n",
    "    max_value = float('-inf')  # Initialize to very small number\n",
    "    \n",
    "    for key, value in dic.items():\n",
    "        if value > max_value:\n",
    "            max_value = value\n",
    "            max_key = key\n",
    "    \n",
    "    return max_key\n",
    "\n",
    "# Example usage:\n",
    "my_dict = {'a': 10, 'b': 25, 'c': 17}\n",
    "print(key_with_max_value(my_dict))  # Output: b"
   ]
  },
  {
   "cell_type": "markdown",
   "id": "3c2cbb61-65c4-4973-bb64-d9a41f0a6c87",
   "metadata": {},
   "source": [
    "## Implement a function that counts occurrences of each word in a list and stores them in a dictionary."
   ]
  },
  {
   "cell_type": "code",
   "execution_count": 81,
   "id": "23a914b2-0a47-4e4b-aeab-51f87e2c4746",
   "metadata": {},
   "outputs": [
    {
     "name": "stdout",
     "output_type": "stream",
     "text": [
      "{'apple': 3, 'banana': 2, 'orange': 1}\n"
     ]
    }
   ],
   "source": [
    "def count_words(word_list):\n",
    "    counts = {}\n",
    "    for word in word_list:\n",
    "        if word in counts:\n",
    "            counts[word] += 1\n",
    "        else:\n",
    "            counts[word] = 1\n",
    "    return counts\n",
    "\n",
    "# Example usage:\n",
    "words = [\"apple\", \"banana\", \"apple\", \"orange\", \"banana\", \"apple\"]\n",
    "print(count_words(words))"
   ]
  },
  {
   "cell_type": "markdown",
   "id": "f1b409fe-e339-4220-9ea8-75a7f80c78cc",
   "metadata": {},
   "source": [
    "## Write a function that removes dictionary entries where values are less than a given threshold using a while loop."
   ]
  },
  {
   "cell_type": "code",
   "execution_count": 82,
   "id": "2e260b8c-4fb8-4f90-a506-ccc9938a32b0",
   "metadata": {},
   "outputs": [
    {
     "name": "stdout",
     "output_type": "stream",
     "text": [
      "{'b': 10, 'd': 8}\n"
     ]
    }
   ],
   "source": [
    "def remove_below_threshold(dic, threshold):\n",
    "    keys = list(dic.keys())  # Get list of keys to iterate safely\n",
    "    i = 0\n",
    "    while i < len(keys):\n",
    "        key = keys[i]\n",
    "        if dic[key] < threshold:\n",
    "            del dic[key]\n",
    "            # Since we deleted a key, the dictionary shrinks; update keys list\n",
    "            keys = list(dic.keys())\n",
    "            # Do not increment i because keys shifted left\n",
    "        else:\n",
    "            i += 1\n",
    "    return dic\n",
    "\n",
    "# Example usage:\n",
    "my_dict = {'a': 5, 'b': 10, 'c': 3, 'd': 8}\n",
    "print(remove_below_threshold(my_dict, 6))"
   ]
  },
  {
   "cell_type": "markdown",
   "id": "ce822d50-50b1-4d95-94b4-3338b7de6f35",
   "metadata": {},
   "source": [
    "## Write a function that reverses keys and values in a dictionary using a for loop."
   ]
  },
  {
   "cell_type": "code",
   "execution_count": 83,
   "id": "96db224e-f009-4a68-bece-c78b14dfeb89",
   "metadata": {},
   "outputs": [
    {
     "name": "stdout",
     "output_type": "stream",
     "text": [
      "{1: 'a', 2: 'b', 3: 'c'}\n"
     ]
    }
   ],
   "source": [
    "def reverse_dict(d):\n",
    "    reversed_dict = {}\n",
    "    for key, value in d.items():\n",
    "        reversed_dict[value] = key\n",
    "    return reversed_dict\n",
    "\n",
    "# Example usage:\n",
    "original = {'a': 1, 'b': 2, 'c': 3}\n",
    "print(reverse_dict(original))  # Output: {1: 'a', 2: 'b', 3: 'c'}"
   ]
  },
  {
   "cell_type": "code",
   "execution_count": null,
   "id": "10fd56b4-ab25-4644-9547-e6b46e39f468",
   "metadata": {},
   "outputs": [],
   "source": []
  }
 ],
 "metadata": {
  "kernelspec": {
   "display_name": "Python 3 (ipykernel)",
   "language": "python",
   "name": "python3"
  },
  "language_info": {
   "codemirror_mode": {
    "name": "ipython",
    "version": 3
   },
   "file_extension": ".py",
   "mimetype": "text/x-python",
   "name": "python",
   "nbconvert_exporter": "python",
   "pygments_lexer": "ipython3",
   "version": "3.13.0"
  }
 },
 "nbformat": 4,
 "nbformat_minor": 5
}
