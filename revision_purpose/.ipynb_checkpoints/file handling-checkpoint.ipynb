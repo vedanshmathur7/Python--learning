{
 "cells": [
  {
   "cell_type": "code",
   "execution_count": 3,
   "id": "6a639dd1-deb8-4dfc-9f64-b97b0581f4e7",
   "metadata": {},
   "outputs": [
    {
     "name": "stdout",
     "output_type": "stream",
     "text": [
      "hello\n"
     ]
    }
   ],
   "source": [
    "print (\"hello\")"
   ]
  },
  {
   "cell_type": "code",
   "execution_count": 13,
   "id": "24b7e88a-1279-491e-b6ca-7144c09b1eda",
   "metadata": {},
   "outputs": [],
   "source": [
    "f= open(\"rajesh.txt\",\"w\" )\n",
    "f.write(\"My name is Vedansh Mathur\")\n",
    "f.close()\n",
    "# content = f.read()\n",
    "# print (content)"
   ]
  },
  {
   "cell_type": "code",
   "execution_count": 16,
   "id": "239fa5a9-804d-436b-b2a7-ad5e74996de0",
   "metadata": {},
   "outputs": [],
   "source": [
    "with open (\"rajesh.txt\" , \"a\") as f:\n",
    "    f.write(\"My love is Tejaswii\")\n",
    "    "
   ]
  },
  {
   "cell_type": "code",
   "execution_count": null,
   "id": "d586acb8-3611-4267-81ca-871d5f8031be",
   "metadata": {},
   "outputs": [],
   "source": []
  }
 ],
 "metadata": {
  "kernelspec": {
   "display_name": "Python 3 (ipykernel)",
   "language": "python",
   "name": "python3"
  },
  "language_info": {
   "codemirror_mode": {
    "name": "ipython",
    "version": 3
   },
   "file_extension": ".py",
   "mimetype": "text/x-python",
   "name": "python",
   "nbconvert_exporter": "python",
   "pygments_lexer": "ipython3",
   "version": "3.13.0"
  }
 },
 "nbformat": 4,
 "nbformat_minor": 5
}
