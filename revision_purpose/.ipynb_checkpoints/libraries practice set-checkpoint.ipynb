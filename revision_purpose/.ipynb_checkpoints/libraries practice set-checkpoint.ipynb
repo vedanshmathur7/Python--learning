{
 "cells": [
  {
   "cell_type": "code",
   "execution_count": 1,
   "id": "35fa50e7-1b18-4174-b842-bf542cc11902",
   "metadata": {},
   "outputs": [],
   "source": [
    "import numpy as np"
   ]
  },
  {
   "cell_type": "code",
   "execution_count": 9,
   "id": "a86621db-300e-4dad-99c2-4d9722d410b3",
   "metadata": {},
   "outputs": [],
   "source": [
    "yes = np.array([34, 67, 43, 78])\n",
    "# np.array(yes)"
   ]
  },
  {
   "cell_type": "code",
   "execution_count": 10,
   "id": "bdabf49c-0415-4114-94e1-77ed9d40eecb",
   "metadata": {},
   "outputs": [
    {
     "data": {
      "text/plain": [
       "array([34, 67, 43, 78])"
      ]
     },
     "execution_count": 10,
     "metadata": {},
     "output_type": "execute_result"
    }
   ],
   "source": [
    "yes"
   ]
  },
  {
   "cell_type": "code",
   "execution_count": 11,
   "id": "a33f04fc-db9f-4266-a361-c50a4dd4315d",
   "metadata": {},
   "outputs": [
    {
     "data": {
      "text/plain": [
       "numpy.ndarray"
      ]
     },
     "execution_count": 11,
     "metadata": {},
     "output_type": "execute_result"
    }
   ],
   "source": [
    "type(yes)"
   ]
  },
  {
   "cell_type": "code",
   "execution_count": 15,
   "id": "5986b146-36d0-4076-95f4-657b03bd8f97",
   "metadata": {},
   "outputs": [
    {
     "data": {
      "text/plain": [
       "4"
      ]
     },
     "execution_count": 15,
     "metadata": {},
     "output_type": "execute_result"
    }
   ],
   "source": [
    "yes.size"
   ]
  },
  {
   "cell_type": "code",
   "execution_count": 16,
   "id": "8ea2184e-f2ea-4e60-80f6-7a76fe08fc52",
   "metadata": {},
   "outputs": [
    {
     "data": {
      "text/plain": [
       "dtype('int64')"
      ]
     },
     "execution_count": 16,
     "metadata": {},
     "output_type": "execute_result"
    }
   ],
   "source": [
    "yes.dtype"
   ]
  },
  {
   "cell_type": "markdown",
   "id": "81fb15cd-3022-497d-b1dc-b69a7ca77309",
   "metadata": {},
   "source": [
    "## How do you create an array of evenly spaced values between 0 and 100?"
   ]
  },
  {
   "cell_type": "code",
   "execution_count": 18,
   "id": "79403329-9d73-49cf-a188-029496f3ca8b",
   "metadata": {},
   "outputs": [
    {
     "data": {
      "text/plain": [
       "array([  0.,  25.,  50.,  75., 100.])"
      ]
     },
     "execution_count": 18,
     "metadata": {},
     "output_type": "execute_result"
    }
   ],
   "source": [
    "np.linspace(0,100,5)"
   ]
  },
  {
   "cell_type": "code",
   "execution_count": 19,
   "id": "fd4b5775-1c6b-499c-a956-bb5c2bf5ece4",
   "metadata": {},
   "outputs": [
    {
     "data": {
      "text/plain": [
       "array([[1., 0., 0., 0., 0.],\n",
       "       [0., 1., 0., 0., 0.],\n",
       "       [0., 0., 1., 0., 0.],\n",
       "       [0., 0., 0., 1., 0.],\n",
       "       [0., 0., 0., 0., 1.]])"
      ]
     },
     "execution_count": 19,
     "metadata": {},
     "output_type": "execute_result"
    }
   ],
   "source": [
    "np.eye(5)"
   ]
  },
  {
   "cell_type": "markdown",
   "id": "1a8bfa29-d519-4d95-94bc-1a8779ece45d",
   "metadata": {},
   "source": [
    "## Given a 3x3 array, how do you extract the diagonal elements"
   ]
  },
  {
   "cell_type": "code",
   "execution_count": 23,
   "id": "a7a85721-5e9d-4540-8140-42a57452a30c",
   "metadata": {},
   "outputs": [
    {
     "data": {
      "text/plain": [
       "array([ 5,  7, 10])"
      ]
     },
     "execution_count": 23,
     "metadata": {},
     "output_type": "execute_result"
    }
   ],
   "source": [
    "arr = np.array([[5, 6, 7],[5, 7, 9], [7, 9, 10]])\n",
    "\n",
    "np.diagonal(arr)"
   ]
  },
  {
   "cell_type": "code",
   "execution_count": 24,
   "id": "fba99cf4-e707-4243-80a3-b3a639d24512",
   "metadata": {},
   "outputs": [],
   "source": [
    "rev_arr = arr[::-1]"
   ]
  },
  {
   "cell_type": "code",
   "execution_count": 25,
   "id": "a8e907b9-ae18-4b93-bfac-ae2a8041e8c8",
   "metadata": {},
   "outputs": [
    {
     "name": "stdout",
     "output_type": "stream",
     "text": [
      "[[ 7  9 10]\n",
      " [ 5  7  9]\n",
      " [ 5  6  7]]\n",
      "<class 'numpy.ndarray'>\n"
     ]
    }
   ],
   "source": [
    "print (rev_arr)\n",
    "print (type(rev_arr))"
   ]
  },
  {
   "cell_type": "markdown",
   "id": "e4789896-1a5f-41da-91fb-0b9431b68591",
   "metadata": {},
   "source": [
    "## How to get a sub-array from a 2D array?"
   ]
  },
  {
   "cell_type": "code",
   "execution_count": 27,
   "id": "c7aa59cb-d267-4359-b745-1464173c9b7e",
   "metadata": {},
   "outputs": [
    {
     "name": "stdout",
     "output_type": "stream",
     "text": [
      "[[5 7 9]\n",
      " [5 6 7]]\n"
     ]
    }
   ],
   "source": [
    "rows = np.take(rev_arr, [1, 2], axis = 0)\n",
    "print (rows)"
   ]
  },
  {
   "cell_type": "code",
   "execution_count": 29,
   "id": "594d6639-e928-49c4-a40a-3a5a865c436e",
   "metadata": {},
   "outputs": [
    {
     "data": {
      "text/plain": [
       "array([35, 72, 49, 85])"
      ]
     },
     "execution_count": 29,
     "metadata": {},
     "output_type": "execute_result"
    }
   ],
   "source": [
    "yes = np.array([34, 67, 43, 78])\n",
    "no = np.array([1 , 5, 6 ,7 ])\n",
    "\n",
    "yes + no"
   ]
  },
  {
   "cell_type": "code",
   "execution_count": 33,
   "id": "acba52db-b122-4ce2-89ff-1ec3a1fe33af",
   "metadata": {},
   "outputs": [
    {
     "name": "stdout",
     "output_type": "stream",
     "text": [
      "[5.83095189 8.18535277 6.55743852 8.83176087]\n",
      "[5.83461743e+14 1.25236317e+29 4.72783947e+18 7.49841700e+33]\n",
      "[3.52636052 4.20469262 3.76120012 4.35670883]\n"
     ]
    }
   ],
   "source": [
    "print (np.sqrt(yes))\n",
    "print (np.exp(yes))\n",
    "print (np.log(yes))"
   ]
  },
  {
   "cell_type": "code",
   "execution_count": 35,
   "id": "bac78a8c-ed2a-41a1-adb8-f464d81e65bf",
   "metadata": {},
   "outputs": [
    {
     "name": "stdout",
     "output_type": "stream",
     "text": [
      "55.5\n",
      "55.0\n",
      "78\n",
      "34\n",
      "17.727097901235837\n"
     ]
    }
   ],
   "source": [
    "print (np.mean(yes))\n",
    "print (np.median(yes))\n",
    "# print (np.mode(yes))\n",
    "print (np.max(yes))\n",
    "print (np.min(yes))\n",
    "print (np.std(yes))"
   ]
  },
  {
   "cell_type": "markdown",
   "id": "0aae2029-4d50-441f-9318-a7fddad1d07e",
   "metadata": {},
   "source": [
    "## What is broadcasting? Give an example."
   ]
  },
  {
   "cell_type": "code",
   "execution_count": 36,
   "id": "ca3a3f89-70ec-4cec-9fdf-d58b93eb8090",
   "metadata": {},
   "outputs": [
    {
     "name": "stdout",
     "output_type": "stream",
     "text": [
      "[[11 22 33]\n",
      " [14 25 36]]\n"
     ]
    }
   ],
   "source": [
    "a = np.array([[1, 2, 3],\n",
    "              [4, 5, 6]])\n",
    "\n",
    "b = np.array([10, 20, 30])\n",
    "\n",
    "result = a + b\n",
    "\n",
    "print(result)\n"
   ]
  },
  {
   "cell_type": "code",
   "execution_count": 44,
   "id": "4bed5c82-f956-4398-b91f-0fe59363d30c",
   "metadata": {},
   "outputs": [
    {
     "data": {
      "text/plain": [
       "array([[42, 24, 44],\n",
       "       [85, 12, 96]], dtype=int32)"
      ]
     },
     "execution_count": 44,
     "metadata": {},
     "output_type": "execute_result"
    }
   ],
   "source": [
    "np.random.randint(0, 100, (2, 3))"
   ]
  },
  {
   "cell_type": "code",
   "execution_count": 45,
   "id": "3e6fea2b-bf41-47f8-933e-0dd172bb5209",
   "metadata": {},
   "outputs": [
    {
     "data": {
      "text/plain": [
       "array([0.95059578, 0.72943814, 0.7977873 , 0.79264327, 0.59227426,\n",
       "       0.30295217, 0.67198231, 0.77560009, 0.69921254, 0.17681464])"
      ]
     },
     "execution_count": 45,
     "metadata": {},
     "output_type": "execute_result"
    }
   ],
   "source": [
    "np.random.rand(10)"
   ]
  },
  {
   "cell_type": "markdown",
   "id": "6657e92e-106e-4499-9a0a-fc7153bc5080",
   "metadata": {},
   "source": [
    "## How to shuffle a NumPy array?"
   ]
  },
  {
   "cell_type": "code",
   "execution_count": 49,
   "id": "75e43723-a16e-419f-9c77-59c017beaeae",
   "metadata": {},
   "outputs": [
    {
     "name": "stdout",
     "output_type": "stream",
     "text": [
      "[[5 6]\n",
      " [1 2]\n",
      " [3 4]]\n"
     ]
    }
   ],
   "source": [
    "arr_2d = np.array([[1, 2], [3, 4], [5, 6]])\n",
    "np.random.shuffle(arr_2d)\n",
    "\n",
    "print(arr_2d)\n"
   ]
  },
  {
   "cell_type": "code",
   "execution_count": 54,
   "id": "d4d1251e-ef6e-4005-a2b7-43c6c0bcc84c",
   "metadata": {},
   "outputs": [
    {
     "name": "stdout",
     "output_type": "stream",
     "text": [
      "[0.77132064 0.02075195 0.63364823]\n"
     ]
    }
   ],
   "source": [
    "import numpy as np\n",
    "\n",
    "np.random.seed(10)  # Set the seed\n",
    "\n",
    "print(np.random.rand(3))  # Same random numbers every time\n"
   ]
  },
  {
   "cell_type": "code",
   "execution_count": null,
   "id": "9b1da365-e1ce-4d64-abbb-cf159d149b3a",
   "metadata": {},
   "outputs": [],
   "source": []
  }
 ],
 "metadata": {
  "kernelspec": {
   "display_name": "Python 3 (ipykernel)",
   "language": "python",
   "name": "python3"
  },
  "language_info": {
   "codemirror_mode": {
    "name": "ipython",
    "version": 3
   },
   "file_extension": ".py",
   "mimetype": "text/x-python",
   "name": "python",
   "nbconvert_exporter": "python",
   "pygments_lexer": "ipython3",
   "version": "3.13.0"
  }
 },
 "nbformat": 4,
 "nbformat_minor": 5
}
