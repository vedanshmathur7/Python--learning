{
 "cells": [
  {
   "cell_type": "markdown",
   "id": "bd702002-b852-42ae-89d7-ca7592fbde9f",
   "metadata": {},
   "source": [
    "logic based practice set "
   ]
  },
  {
   "cell_type": "code",
   "execution_count": 1,
   "id": "3b108b29-8f72-41a5-8a80-e7f29c390967",
   "metadata": {},
   "outputs": [],
   "source": [
    "str_ = \"123\"\n",
    "str_int = int(str_)"
   ]
  },
  {
   "cell_type": "code",
   "execution_count": 2,
   "id": "e3adb732-06b2-4b26-a4d6-e606f2332957",
   "metadata": {},
   "outputs": [
    {
     "name": "stdout",
     "output_type": "stream",
     "text": [
      "<class 'int'>\n"
     ]
    }
   ],
   "source": [
    "print (type(str_int))"
   ]
  },
  {
   "cell_type": "code",
   "execution_count": 3,
   "id": "336d567f-0463-43ab-9eba-1870a2a749eb",
   "metadata": {},
   "outputs": [
    {
     "data": {
      "text/plain": [
       "133"
      ]
     },
     "execution_count": 3,
     "metadata": {},
     "output_type": "execute_result"
    }
   ],
   "source": [
    "str_int + 10"
   ]
  },
  {
   "cell_type": "code",
   "execution_count": 9,
   "id": "74a7cd6b-0bb2-4df5-b0f1-69d0b41a9cfc",
   "metadata": {},
   "outputs": [
    {
     "name": "stdout",
     "output_type": "stream",
     "text": [
      "<class 'str'>\n"
     ]
    }
   ],
   "source": [
    "flt = 4.89\n",
    "intu = int(flt)\n",
    "\n",
    "stri = \"89.08\"\n",
    "flou = float(stri)\n",
    "print (type(stri))"
   ]
  },
  {
   "cell_type": "code",
   "execution_count": null,
   "id": "ab732faf-11a0-4153-a17b-e55fa8d2423a",
   "metadata": {},
   "outputs": [],
   "source": []
  },
  {
   "cell_type": "code",
   "execution_count": 13,
   "id": "2a9c230d-22a3-4312-a3f0-220ae7e6ad10",
   "metadata": {},
   "outputs": [
    {
     "name": "stdout",
     "output_type": "stream",
     "text": [
      "The no. vowels are 5\n"
     ]
    }
   ],
   "source": [
    "string_ = \"abcdefghiuo\"\n",
    "count = 0\n",
    "\n",
    "for i in string_:    \n",
    "    if i in \"aeiou\":\n",
    "        count += 1\n",
    "print (f\"The no. vowels are {count}\")"
   ]
  },
  {
   "cell_type": "code",
   "execution_count": 15,
   "id": "4802d9dc-6e92-413b-92ea-941e6d793f5e",
   "metadata": {},
   "outputs": [
    {
     "data": {
      "text/plain": [
       "'ouihgfedcba'"
      ]
     },
     "execution_count": 15,
     "metadata": {},
     "output_type": "execute_result"
    }
   ],
   "source": [
    "string_[::-1]"
   ]
  },
  {
   "cell_type": "markdown",
   "id": "c7661a77-fa74-4279-b4dd-7f84bafc94bd",
   "metadata": {},
   "source": [
    "## to check whether the given input is pallindrome or not"
   ]
  },
  {
   "cell_type": "code",
   "execution_count": 46,
   "id": "99ac6418-5bbc-41b1-b5a1-61ea2613ade4",
   "metadata": {},
   "outputs": [
    {
     "name": "stdin",
     "output_type": "stream",
     "text": [
      "Enter the shit you wanna check the pallindrome of MF :  8998\n"
     ]
    },
    {
     "name": "stdout",
     "output_type": "stream",
     "text": [
      "The given input is pallindrome.\n"
     ]
    }
   ],
   "source": [
    "def pallindrome (maal):\n",
    "    reverse = inputt[::-1]\n",
    "    if inputt == reverse:\n",
    "        print (\"The given input is pallindrome.\")\n",
    "    else :\n",
    "        print (\"This ain't pallindrome MF !\")\n",
    "\n",
    "inputt = input (\"Enter the shit you wanna check the pallindrome of MF : \")\n",
    "pallindrome(inputt)\n"
   ]
  },
  {
   "cell_type": "code",
   "execution_count": 20,
   "id": "7ff6a55c-e501-4188-a3ee-27f9eae189e9",
   "metadata": {},
   "outputs": [],
   "source": [
    "lsit = []\n",
    "lsit.append(\"rajesh ki ghanti\")"
   ]
  },
  {
   "cell_type": "code",
   "execution_count": 21,
   "id": "cd96e028-e757-419e-8c3a-cb2e17c44d71",
   "metadata": {},
   "outputs": [
    {
     "name": "stdout",
     "output_type": "stream",
     "text": [
      "['rajesh ki ghanti']\n"
     ]
    }
   ],
   "source": [
    "print (lsit)"
   ]
  },
  {
   "cell_type": "code",
   "execution_count": 22,
   "id": "5b51c2af-cee0-4e38-8b40-1062ab66e354",
   "metadata": {},
   "outputs": [],
   "source": [
    "setu = set(lsit)"
   ]
  },
  {
   "cell_type": "code",
   "execution_count": 23,
   "id": "9bd3b3d2-82b5-467a-97dd-83a7c153c5e0",
   "metadata": {},
   "outputs": [
    {
     "name": "stdout",
     "output_type": "stream",
     "text": [
      "{'rajesh ki ghanti'}\n",
      "<class 'set'>\n"
     ]
    }
   ],
   "source": [
    "print (setu)\n",
    "print (type(setu))"
   ]
  },
  {
   "cell_type": "code",
   "execution_count": 26,
   "id": "98be34da-5078-49a9-b86e-ede7ac811a17",
   "metadata": {},
   "outputs": [],
   "source": [
    "setu.add(45)\n",
    "setu.add(45)\n",
    "setu.add(78)\n",
    "setu.add(90)"
   ]
  },
  {
   "cell_type": "code",
   "execution_count": 27,
   "id": "2212be76-46f7-4f91-a522-4f6f4ca5d2e5",
   "metadata": {},
   "outputs": [
    {
     "name": "stdout",
     "output_type": "stream",
     "text": [
      "{90, 45, 'rajesh ki ghanti', 78}\n"
     ]
    }
   ],
   "source": [
    "print (setu)"
   ]
  },
  {
   "cell_type": "code",
   "execution_count": 35,
   "id": "5e8fecb0-691c-4d85-ac24-393f4af52d07",
   "metadata": {},
   "outputs": [
    {
     "name": "stdin",
     "output_type": "stream",
     "text": [
      "enter the no. of rows of stars you wanna print :  10\n"
     ]
    },
    {
     "name": "stdout",
     "output_type": "stream",
     "text": [
      "*\n",
      "**\n",
      "***\n",
      "****\n",
      "*****\n",
      "******\n",
      "*******\n",
      "********\n",
      "*********\n",
      "**********\n"
     ]
    }
   ],
   "source": [
    "no = int (input (\"enter the no. of rows of stars you wanna print : \"))\n",
    "for i in range (1, no +1 ):\n",
    "    for j in range (i):\n",
    "        print ('*', end = '')\n",
    "    print ()"
   ]
  },
  {
   "cell_type": "code",
   "execution_count": 47,
   "id": "3591c401-8429-42ce-b327-229c28c676c6",
   "metadata": {},
   "outputs": [
    {
     "name": "stdin",
     "output_type": "stream",
     "text": [
      "Enter the no.  88\n"
     ]
    },
    {
     "name": "stdout",
     "output_type": "stream",
     "text": [
      "The no. is not prime.\n"
     ]
    }
   ],
   "source": [
    "number = int (input (\"Enter the no. \"))\n",
    "\n",
    "if number <= 1:\n",
    "    print (\"The no. is not prime.\")\n",
    "else :\n",
    "    for i in range (2, number):\n",
    "        if number % i == 0:\n",
    "            print (\"The no. is not prime.\")\n",
    "            break\n",
    "    else :\n",
    "            print (\"The no. is prime.\")\n",
    "   "
   ]
  },
  {
   "cell_type": "code",
   "execution_count": 58,
   "id": "fad856f1-eaa4-4ffe-b423-5e925d26fe18",
   "metadata": {},
   "outputs": [
    {
     "data": {
      "text/plain": [
       "[1, 56, 56, 78]"
      ]
     },
     "execution_count": 58,
     "metadata": {},
     "output_type": "execute_result"
    }
   ],
   "source": [
    "op = [56, 56, 78, 1]\n",
    "op.sort()\n",
    "op"
   ]
  },
  {
   "cell_type": "code",
   "execution_count": 44,
   "id": "1d12e90d-b211-4991-b740-bf50da37cc03",
   "metadata": {},
   "outputs": [
    {
     "name": "stdout",
     "output_type": "stream",
     "text": [
      "{56, 'Vedansh', 'Tejaswi', 78}\n"
     ]
    }
   ],
   "source": [
    "topi = set(op)\n",
    "print (topi)"
   ]
  },
  {
   "cell_type": "code",
   "execution_count": 54,
   "id": "2f762cb4-04cd-4ab4-a156-ddc2d206fc3f",
   "metadata": {},
   "outputs": [
    {
     "name": "stdout",
     "output_type": "stream",
     "text": [
      "120\n"
     ]
    }
   ],
   "source": [
    "def multiplication (*args):\n",
    "    result = 1\n",
    "    for digits in args:\n",
    "        result *= digits\n",
    "    return result\n",
    "\n",
    "print (multiplication(1, 2, 3, 4, 5))\n",
    "    "
   ]
  },
  {
   "cell_type": "code",
   "execution_count": 63,
   "id": "f929e35c-8356-4313-9126-7a0949992702",
   "metadata": {},
   "outputs": [
    {
     "name": "stdout",
     "output_type": "stream",
     "text": [
      "152\n"
     ]
    }
   ],
   "source": [
    "sumo = [4, 6, 7, 7, 6, 7, 8 ,8, 10, 89 ]\n",
    "result = 0\n",
    "for i in sumo:\n",
    "    result += i\n",
    "print (result)"
   ]
  },
  {
   "cell_type": "code",
   "execution_count": 64,
   "id": "0b57cb10-eb8f-4757-b9be-295aece2f75e",
   "metadata": {},
   "outputs": [
    {
     "data": {
      "text/plain": [
       "False"
      ]
     },
     "execution_count": 64,
     "metadata": {},
     "output_type": "execute_result"
    }
   ],
   "source": [
    "99 in sumo"
   ]
  },
  {
   "cell_type": "code",
   "execution_count": 65,
   "id": "c3c20f56-474e-432e-8293-59a1e5cff518",
   "metadata": {},
   "outputs": [
    {
     "name": "stdout",
     "output_type": "stream",
     "text": [
      "4\n",
      "6\n",
      "6\n",
      "8\n",
      "8\n",
      "10\n"
     ]
    }
   ],
   "source": [
    "for i in sumo :\n",
    "    if i % 2 == 0:\n",
    "        print (i)\n"
   ]
  },
  {
   "cell_type": "code",
   "execution_count": 66,
   "id": "432d5331-4da2-4b38-80c3-9909fd7f72fb",
   "metadata": {},
   "outputs": [],
   "source": [
    "sumo.append(\"vedansh\")"
   ]
  },
  {
   "cell_type": "code",
   "execution_count": 67,
   "id": "d6260851-9cd6-4295-8e33-de6597603840",
   "metadata": {},
   "outputs": [],
   "source": [
    "sumo.remove(\"vedansh\")"
   ]
  },
  {
   "cell_type": "code",
   "execution_count": 68,
   "id": "561742f1-a041-4ba1-902b-e7d2df5ea801",
   "metadata": {},
   "outputs": [
    {
     "data": {
      "text/plain": [
       "[4, 6, 7, 7, 6, 7, 8, 8, 10, 89]"
      ]
     },
     "execution_count": 68,
     "metadata": {},
     "output_type": "execute_result"
    }
   ],
   "source": [
    "sumo"
   ]
  },
  {
   "cell_type": "code",
   "execution_count": 69,
   "id": "a463f926-2a88-4bf2-89f4-0d88d7a6f257",
   "metadata": {},
   "outputs": [],
   "source": [
    "sumo.reverse()"
   ]
  },
  {
   "cell_type": "code",
   "execution_count": 70,
   "id": "73e38167-48dc-48fa-991a-e3d069a78eb8",
   "metadata": {},
   "outputs": [
    {
     "data": {
      "text/plain": [
       "[89, 10, 8, 8, 7, 6, 7, 7, 6, 4]"
      ]
     },
     "execution_count": 70,
     "metadata": {},
     "output_type": "execute_result"
    }
   ],
   "source": [
    "sumo"
   ]
  },
  {
   "cell_type": "code",
   "execution_count": 71,
   "id": "3060fbf3-4356-4339-aafa-acfc0ed182ff",
   "metadata": {},
   "outputs": [
    {
     "data": {
      "text/plain": [
       "10"
      ]
     },
     "execution_count": 71,
     "metadata": {},
     "output_type": "execute_result"
    }
   ],
   "source": [
    "len(sumo)"
   ]
  },
  {
   "cell_type": "code",
   "execution_count": 78,
   "id": "e3970e9a-585e-40ce-9f0f-f7dcaf4490b8",
   "metadata": {},
   "outputs": [
    {
     "name": "stdout",
     "output_type": "stream",
     "text": [
      "The list not empty\n",
      "The list is empty\n"
     ]
    }
   ],
   "source": [
    "def check_empty (list1):\n",
    "    if len(list1) == 0:\n",
    "        return \"The list is empty\"\n",
    "    else:\n",
    "        return \"The list not empty\"\n",
    "\n",
    "vedansh = []\n",
    "print (check_empty(sumo))\n",
    "print (check_empty(vedansh))"
   ]
  },
  {
   "cell_type": "code",
   "execution_count": 79,
   "id": "5f0d094b-bbf4-4fa9-9e47-94835dcb25a9",
   "metadata": {},
   "outputs": [
    {
     "data": {
      "text/plain": [
       "[89, 10, 8, 8, 7, 6, 7, 7, 6, 4]"
      ]
     },
     "execution_count": 79,
     "metadata": {},
     "output_type": "execute_result"
    }
   ],
   "source": [
    "sumo"
   ]
  },
  {
   "cell_type": "code",
   "execution_count": 80,
   "id": "a9131415-d4c2-4193-a386-52099262f718",
   "metadata": {},
   "outputs": [
    {
     "data": {
      "text/plain": [
       "2"
      ]
     },
     "execution_count": 80,
     "metadata": {},
     "output_type": "execute_result"
    }
   ],
   "source": [
    "sumo.count(8)"
   ]
  },
  {
   "cell_type": "code",
   "execution_count": 81,
   "id": "2698ed17-b43c-4313-bc71-37bbec4e755f",
   "metadata": {},
   "outputs": [],
   "source": [
    "sumo.append(-3)\n",
    "sumo.append(-10)\n",
    "sumo.append(-77)"
   ]
  },
  {
   "cell_type": "code",
   "execution_count": 82,
   "id": "23f45452-2fca-48ce-9f13-90db167a393f",
   "metadata": {},
   "outputs": [
    {
     "data": {
      "text/plain": [
       "[89, 10, 8, 8, 7, 6, 7, 7, 6, 4, -3, -10, -77]"
      ]
     },
     "execution_count": 82,
     "metadata": {},
     "output_type": "execute_result"
    }
   ],
   "source": [
    "sumo"
   ]
  },
  {
   "cell_type": "code",
   "execution_count": 85,
   "id": "d2bf703b-3a4b-4f36-af69-224eddc426f6",
   "metadata": {},
   "outputs": [],
   "source": [
    "for i in range(len(sumo)):\n",
    "    if sumo[i] <0:\n",
    "        sumo[i] = 0"
   ]
  },
  {
   "cell_type": "code",
   "execution_count": 86,
   "id": "9f44158c-a8ec-4a66-b0f6-6b8480add854",
   "metadata": {},
   "outputs": [
    {
     "data": {
      "text/plain": [
       "[89, 10, 8, 8, 7, 6, 7, 7, 6, 4, 0, 0, 0]"
      ]
     },
     "execution_count": 86,
     "metadata": {},
     "output_type": "execute_result"
    }
   ],
   "source": [
    "sumo"
   ]
  },
  {
   "cell_type": "code",
   "execution_count": 87,
   "id": "105d99f4-79d9-4473-8c97-5ff153e7b8b9",
   "metadata": {},
   "outputs": [],
   "source": [
    "op = [89, 90, 77, \"ved\"]\n",
    "sumo.extend(op)"
   ]
  },
  {
   "cell_type": "code",
   "execution_count": 88,
   "id": "005d2240-a3a3-42ab-aa59-061f1a47e099",
   "metadata": {},
   "outputs": [
    {
     "data": {
      "text/plain": [
       "[89, 10, 8, 8, 7, 6, 7, 7, 6, 4, 0, 0, 0, 89, 90, 77, 'ved']"
      ]
     },
     "execution_count": 88,
     "metadata": {},
     "output_type": "execute_result"
    }
   ],
   "source": [
    "sumo"
   ]
  },
  {
   "cell_type": "code",
   "execution_count": null,
   "id": "788db1ae-169b-429e-b40d-ae39f41175dd",
   "metadata": {},
   "outputs": [],
   "source": []
  }
 ],
 "metadata": {
  "kernelspec": {
   "display_name": "Python 3 (ipykernel)",
   "language": "python",
   "name": "python3"
  },
  "language_info": {
   "codemirror_mode": {
    "name": "ipython",
    "version": 3
   },
   "file_extension": ".py",
   "mimetype": "text/x-python",
   "name": "python",
   "nbconvert_exporter": "python",
   "pygments_lexer": "ipython3",
   "version": "3.13.0"
  }
 },
 "nbformat": 4,
 "nbformat_minor": 5
}
